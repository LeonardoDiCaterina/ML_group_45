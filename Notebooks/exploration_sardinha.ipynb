{
 "cells": [
  {
   "cell_type": "markdown",
   "metadata": {},
   "source": [
    "# **<h3 align=\"center\">Machine Learning 2025-26</h3>**\n",
    "## **<h3 align=\"center\">Cars 4 You: Expediting Car Evaluations with ML</h3>**\n",
    "\n",
    "\n",
    "**Group 45 members:**<br>"
   ]
  },
  {
   "cell_type": "markdown",
   "metadata": {},
   "source": [
    "**Table of Contents** <br>\n",
    "* [1. Imports](#imports)\n",
    "    * [1.1. Import Libraries](#import_libraries)\n",
    "    * [1.2. Import Dataset](#import_dataset)\n",
    "* [2. Exploration](#exploration)\n",
    "  * [2.1. Description of the Dataset's Structure](#dataset_structure)\n",
    "  * [2.2. Exploration of the Dataset](#dataset_exploration)\n",
    "* [3. Preprocessing](#preprocessing)"
   ]
  },
  {
   "cell_type": "markdown",
   "metadata": {},
   "source": [
    "<div class=\"alert alert-block alert-success\"> <a id = \"imports\"></a>\n",
    "\n",
    "# 1. Imports"
   ]
  },
  {
   "cell_type": "markdown",
   "metadata": {},
   "source": [
    "## 1.1. Import the Libraries <a class=\"anchor\" id=\"import_libraries\"></a>\n"
   ]
  },
  {
   "cell_type": "code",
   "execution_count": 1,
   "metadata": {},
   "outputs": [],
   "source": [
    "# General Libraries\n",
    "import pandas as pd\n",
    "import numpy as np\n",
    "import re\n",
    "from math import ceil\n",
    "import matplotlib.pyplot as plt\n",
    "import seaborn as sns\n",
    "from scipy import stats\n",
    "from scipy.stats import spearmanr\n",
    "\n",
    "# Machine Learning and Data Preprocessing\n",
    "from sklearn.model_selection import train_test_split, KFold, RepeatedKFold\n",
    "from sklearn.impute import SimpleImputer, KNNImputer\n",
    "from sklearn.preprocessing import MinMaxScaler, OrdinalEncoder, LabelEncoder\n",
    "from imblearn.over_sampling import SMOTE"
   ]
  },
  {
   "cell_type": "markdown",
   "metadata": {},
   "source": [
    "## 1.2. Import the DataSet <a class=\"anchor\" id=\"import_dataset\"></a>"
   ]
  },
  {
   "cell_type": "code",
   "execution_count": 2,
   "metadata": {},
   "outputs": [],
   "source": [
    "df = pd.read_csv('../data/train.csv', sep=',')"
   ]
  },
  {
   "cell_type": "code",
   "execution_count": 3,
   "metadata": {},
   "outputs": [
    {
     "data": {
      "text/plain": [
       "Index(['carID', 'Brand', 'model', 'year', 'price', 'transmission', 'mileage',\n",
       "       'fuelType', 'tax', 'mpg', 'engineSize', 'paintQuality%',\n",
       "       'previousOwners', 'hasDamage'],\n",
       "      dtype='object')"
      ]
     },
     "execution_count": 3,
     "metadata": {},
     "output_type": "execute_result"
    }
   ],
   "source": [
    "df.columns"
   ]
  },
  {
   "cell_type": "code",
   "execution_count": 4,
   "metadata": {},
   "outputs": [],
   "source": [
    "#importing the test dataset\n",
    "df_test = pd.read_csv('../data/test.csv', sep=',')"
   ]
  },
  {
   "cell_type": "code",
   "execution_count": 5,
   "metadata": {},
   "outputs": [
    {
     "data": {
      "text/plain": [
       "Index(['carID', 'Brand', 'model', 'year', 'transmission', 'mileage',\n",
       "       'fuelType', 'tax', 'mpg', 'engineSize', 'paintQuality%',\n",
       "       'previousOwners', 'hasDamage'],\n",
       "      dtype='object')"
      ]
     },
     "execution_count": 5,
     "metadata": {},
     "output_type": "execute_result"
    }
   ],
   "source": [
    "df_test.columns"
   ]
  },
  {
   "cell_type": "code",
   "execution_count": 6,
   "metadata": {},
   "outputs": [],
   "source": [
    "#importing the sample submission dataset\n",
    "df_sample_submission = pd.read_csv('../data/sample_submission.csv', sep=',')"
   ]
  },
  {
   "cell_type": "code",
   "execution_count": 7,
   "metadata": {},
   "outputs": [
    {
     "data": {
      "text/plain": [
       "Index(['carID', 'price'], dtype='object')"
      ]
     },
     "execution_count": 7,
     "metadata": {},
     "output_type": "execute_result"
    }
   ],
   "source": [
    "df_sample_submission.columns"
   ]
  },
  {
   "cell_type": "code",
   "execution_count": 8,
   "metadata": {},
   "outputs": [
    {
     "data": {
      "text/html": [
       "<div>\n",
       "<style scoped>\n",
       "    .dataframe tbody tr th:only-of-type {\n",
       "        vertical-align: middle;\n",
       "    }\n",
       "\n",
       "    .dataframe tbody tr th {\n",
       "        vertical-align: top;\n",
       "    }\n",
       "\n",
       "    .dataframe thead th {\n",
       "        text-align: right;\n",
       "    }\n",
       "</style>\n",
       "<table border=\"1\" class=\"dataframe\">\n",
       "  <thead>\n",
       "    <tr style=\"text-align: right;\">\n",
       "      <th></th>\n",
       "      <th>carID</th>\n",
       "      <th>price</th>\n",
       "      <th>Brand</th>\n",
       "      <th>model</th>\n",
       "      <th>fuelType</th>\n",
       "    </tr>\n",
       "  </thead>\n",
       "  <tbody>\n",
       "    <tr>\n",
       "      <th>0</th>\n",
       "      <td>69512</td>\n",
       "      <td>22290</td>\n",
       "      <td>VW</td>\n",
       "      <td>Golf</td>\n",
       "      <td>Petrol</td>\n",
       "    </tr>\n",
       "    <tr>\n",
       "      <th>1</th>\n",
       "      <td>53000</td>\n",
       "      <td>13790</td>\n",
       "      <td>Toyota</td>\n",
       "      <td>Yaris</td>\n",
       "      <td>Petrol</td>\n",
       "    </tr>\n",
       "    <tr>\n",
       "      <th>2</th>\n",
       "      <td>6366</td>\n",
       "      <td>24990</td>\n",
       "      <td>Audi</td>\n",
       "      <td>Q2</td>\n",
       "      <td>Petrol</td>\n",
       "    </tr>\n",
       "    <tr>\n",
       "      <th>3</th>\n",
       "      <td>29021</td>\n",
       "      <td>12500</td>\n",
       "      <td>Ford</td>\n",
       "      <td>FIESTA</td>\n",
       "      <td>Petrol</td>\n",
       "    </tr>\n",
       "    <tr>\n",
       "      <th>4</th>\n",
       "      <td>10062</td>\n",
       "      <td>22995</td>\n",
       "      <td>BMW</td>\n",
       "      <td>2 Series</td>\n",
       "      <td>Petrol</td>\n",
       "    </tr>\n",
       "  </tbody>\n",
       "</table>\n",
       "</div>"
      ],
      "text/plain": [
       "   carID  price   Brand      model fuelType\n",
       "0  69512  22290      VW       Golf   Petrol\n",
       "1  53000  13790  Toyota      Yaris   Petrol\n",
       "2   6366  24990    Audi         Q2   Petrol\n",
       "3  29021  12500    Ford     FIESTA   Petrol\n",
       "4  10062  22995     BMW   2 Series   Petrol"
      ]
     },
     "execution_count": 8,
     "metadata": {},
     "output_type": "execute_result"
    }
   ],
   "source": [
    "df[[\"carID\", \"price\", \"Brand\", \"model\", \"fuelType\"]].head()"
   ]
  },
  {
   "cell_type": "markdown",
   "metadata": {},
   "source": [
    "<div class=\"alert alert-block alert-success\"> <a id = \"exploration\"></a>\n",
    "\n",
    "# 2. Exploration"
   ]
  },
  {
   "cell_type": "markdown",
   "metadata": {},
   "source": [
    "## 2.1. Description of the Dataset's Structure <a class=\"anchor\" id=\"dataset_structure\"></a>"
   ]
  },
  {
   "cell_type": "markdown",
   "metadata": {},
   "source": [
    "- *carID* - An attribute that contains an identifier for each car.\n",
    "\n",
    "- *Brand* - The car’s main brand (e.g. Ford, Toyota)\n",
    "    \n",
    "- *model* - The car model\n",
    "\n",
    "- *year* - The year of Registration of the Car\n",
    "    \n",
    "- *mileage* - The total reported distance travelled by the car (in\n",
    "miles)\n",
    "\n",
    "- *tax* - The amount of road tax (in £) that, in 2020, was\n",
    "applicable to the car in question.\n",
    "\n",
    "- *fuelType* - Type of Fuel used by the car (Diesel, Petrol, Hybrid,\n",
    "Electric)\n",
    "    \n",
    "- *mpg* - Average Miles per Gallon\n",
    "    \n",
    "- *engineSize* - Size of Engine in liters (Cubic Decimeters)\n",
    "    \n",
    "- *paintQuality%* - The mechanic’s assessment of the cars’ overall paint\n",
    "quality and hull integrity (filled by the mechanic\n",
    "during evaluation).\n",
    "    \n",
    "- *previousOwners* - Number of previous registered owners of the vehicle.\n",
    "\n",
    "- *hasDamage* - Boolean marker filled by the seller at the time of\n",
    "registration stating whether the car is damaged or not.\n",
    "\n",
    "- *price* - The car’s price when purchased by Cars 4 You (in £)."
   ]
  },
  {
   "cell_type": "markdown",
   "metadata": {},
   "source": [
    "## 2.2. Exploration of the Dataset <a class=\"anchor\" id=\"dataset_exploration\"></a>"
   ]
  },
  {
   "cell_type": "code",
   "execution_count": 9,
   "metadata": {},
   "outputs": [
    {
     "data": {
      "text/plain": [
       "(75973, 14)"
      ]
     },
     "execution_count": 9,
     "metadata": {},
     "output_type": "execute_result"
    }
   ],
   "source": [
    "df.shape"
   ]
  },
  {
   "cell_type": "code",
   "execution_count": 10,
   "metadata": {},
   "outputs": [
    {
     "data": {
      "text/html": [
       "<div>\n",
       "<style scoped>\n",
       "    .dataframe tbody tr th:only-of-type {\n",
       "        vertical-align: middle;\n",
       "    }\n",
       "\n",
       "    .dataframe tbody tr th {\n",
       "        vertical-align: top;\n",
       "    }\n",
       "\n",
       "    .dataframe thead th {\n",
       "        text-align: right;\n",
       "    }\n",
       "</style>\n",
       "<table border=\"1\" class=\"dataframe\">\n",
       "  <thead>\n",
       "    <tr style=\"text-align: right;\">\n",
       "      <th></th>\n",
       "      <th>0</th>\n",
       "      <th>1</th>\n",
       "      <th>2</th>\n",
       "      <th>3</th>\n",
       "      <th>4</th>\n",
       "    </tr>\n",
       "  </thead>\n",
       "  <tbody>\n",
       "    <tr>\n",
       "      <th>carID</th>\n",
       "      <td>69512</td>\n",
       "      <td>53000</td>\n",
       "      <td>6366</td>\n",
       "      <td>29021</td>\n",
       "      <td>10062</td>\n",
       "    </tr>\n",
       "    <tr>\n",
       "      <th>Brand</th>\n",
       "      <td>VW</td>\n",
       "      <td>Toyota</td>\n",
       "      <td>Audi</td>\n",
       "      <td>Ford</td>\n",
       "      <td>BMW</td>\n",
       "    </tr>\n",
       "    <tr>\n",
       "      <th>model</th>\n",
       "      <td>Golf</td>\n",
       "      <td>Yaris</td>\n",
       "      <td>Q2</td>\n",
       "      <td>FIESTA</td>\n",
       "      <td>2 Series</td>\n",
       "    </tr>\n",
       "    <tr>\n",
       "      <th>year</th>\n",
       "      <td>2016.0</td>\n",
       "      <td>2019.0</td>\n",
       "      <td>2019.0</td>\n",
       "      <td>2018.0</td>\n",
       "      <td>2019.0</td>\n",
       "    </tr>\n",
       "    <tr>\n",
       "      <th>price</th>\n",
       "      <td>22290</td>\n",
       "      <td>13790</td>\n",
       "      <td>24990</td>\n",
       "      <td>12500</td>\n",
       "      <td>22995</td>\n",
       "    </tr>\n",
       "    <tr>\n",
       "      <th>transmission</th>\n",
       "      <td>Semi-Auto</td>\n",
       "      <td>Manual</td>\n",
       "      <td>Semi-Auto</td>\n",
       "      <td>anual</td>\n",
       "      <td>Manual</td>\n",
       "    </tr>\n",
       "    <tr>\n",
       "      <th>mileage</th>\n",
       "      <td>28421.0</td>\n",
       "      <td>4589.0</td>\n",
       "      <td>3624.0</td>\n",
       "      <td>9102.0</td>\n",
       "      <td>1000.0</td>\n",
       "    </tr>\n",
       "    <tr>\n",
       "      <th>fuelType</th>\n",
       "      <td>Petrol</td>\n",
       "      <td>Petrol</td>\n",
       "      <td>Petrol</td>\n",
       "      <td>Petrol</td>\n",
       "      <td>Petrol</td>\n",
       "    </tr>\n",
       "    <tr>\n",
       "      <th>tax</th>\n",
       "      <td>NaN</td>\n",
       "      <td>145.0</td>\n",
       "      <td>145.0</td>\n",
       "      <td>145.0</td>\n",
       "      <td>145.0</td>\n",
       "    </tr>\n",
       "    <tr>\n",
       "      <th>mpg</th>\n",
       "      <td>11.417268</td>\n",
       "      <td>47.9</td>\n",
       "      <td>40.9</td>\n",
       "      <td>65.7</td>\n",
       "      <td>42.8</td>\n",
       "    </tr>\n",
       "    <tr>\n",
       "      <th>engineSize</th>\n",
       "      <td>2.0</td>\n",
       "      <td>1.5</td>\n",
       "      <td>1.5</td>\n",
       "      <td>1.0</td>\n",
       "      <td>1.5</td>\n",
       "    </tr>\n",
       "    <tr>\n",
       "      <th>paintQuality%</th>\n",
       "      <td>63.0</td>\n",
       "      <td>50.0</td>\n",
       "      <td>56.0</td>\n",
       "      <td>50.0</td>\n",
       "      <td>97.0</td>\n",
       "    </tr>\n",
       "    <tr>\n",
       "      <th>previousOwners</th>\n",
       "      <td>4.0</td>\n",
       "      <td>1.0</td>\n",
       "      <td>4.0</td>\n",
       "      <td>-2.340306</td>\n",
       "      <td>3.0</td>\n",
       "    </tr>\n",
       "    <tr>\n",
       "      <th>hasDamage</th>\n",
       "      <td>0.0</td>\n",
       "      <td>0.0</td>\n",
       "      <td>0.0</td>\n",
       "      <td>0.0</td>\n",
       "      <td>0.0</td>\n",
       "    </tr>\n",
       "  </tbody>\n",
       "</table>\n",
       "</div>"
      ],
      "text/plain": [
       "                        0       1          2         3          4\n",
       "carID               69512   53000       6366     29021      10062\n",
       "Brand                  VW  Toyota       Audi      Ford        BMW\n",
       "model                Golf   Yaris         Q2    FIESTA   2 Series\n",
       "year               2016.0  2019.0     2019.0    2018.0     2019.0\n",
       "price               22290   13790      24990     12500      22995\n",
       "transmission    Semi-Auto  Manual  Semi-Auto     anual     Manual\n",
       "mileage           28421.0  4589.0     3624.0    9102.0     1000.0\n",
       "fuelType           Petrol  Petrol     Petrol    Petrol     Petrol\n",
       "tax                   NaN   145.0      145.0     145.0      145.0\n",
       "mpg             11.417268    47.9       40.9      65.7       42.8\n",
       "engineSize            2.0     1.5        1.5       1.0        1.5\n",
       "paintQuality%        63.0    50.0       56.0      50.0       97.0\n",
       "previousOwners        4.0     1.0        4.0 -2.340306        3.0\n",
       "hasDamage             0.0     0.0        0.0       0.0        0.0"
      ]
     },
     "execution_count": 10,
     "metadata": {},
     "output_type": "execute_result"
    }
   ],
   "source": [
    "df.head().T"
   ]
  },
  {
   "cell_type": "code",
   "execution_count": 11,
   "metadata": {},
   "outputs": [
    {
     "data": {
      "text/html": [
       "<div>\n",
       "<style scoped>\n",
       "    .dataframe tbody tr th:only-of-type {\n",
       "        vertical-align: middle;\n",
       "    }\n",
       "\n",
       "    .dataframe tbody tr th {\n",
       "        vertical-align: top;\n",
       "    }\n",
       "\n",
       "    .dataframe thead th {\n",
       "        text-align: right;\n",
       "    }\n",
       "</style>\n",
       "<table border=\"1\" class=\"dataframe\">\n",
       "  <thead>\n",
       "    <tr style=\"text-align: right;\">\n",
       "      <th></th>\n",
       "      <th>75968</th>\n",
       "      <th>75969</th>\n",
       "      <th>75970</th>\n",
       "      <th>75971</th>\n",
       "      <th>75972</th>\n",
       "    </tr>\n",
       "  </thead>\n",
       "  <tbody>\n",
       "    <tr>\n",
       "      <th>carID</th>\n",
       "      <td>37194</td>\n",
       "      <td>6265</td>\n",
       "      <td>54886</td>\n",
       "      <td>860</td>\n",
       "      <td>15795</td>\n",
       "    </tr>\n",
       "    <tr>\n",
       "      <th>Brand</th>\n",
       "      <td>Mercedes</td>\n",
       "      <td>Audi</td>\n",
       "      <td>Toyota</td>\n",
       "      <td>Audi</td>\n",
       "      <td>Ford</td>\n",
       "    </tr>\n",
       "    <tr>\n",
       "      <th>model</th>\n",
       "      <td>C Class</td>\n",
       "      <td>Q3</td>\n",
       "      <td>Aygo</td>\n",
       "      <td>Q3</td>\n",
       "      <td>Fiesta</td>\n",
       "    </tr>\n",
       "    <tr>\n",
       "      <th>year</th>\n",
       "      <td>2015.0</td>\n",
       "      <td>2013.0</td>\n",
       "      <td>2017.0</td>\n",
       "      <td>2015.0</td>\n",
       "      <td>2018.0</td>\n",
       "    </tr>\n",
       "    <tr>\n",
       "      <th>price</th>\n",
       "      <td>13498</td>\n",
       "      <td>12495</td>\n",
       "      <td>8399</td>\n",
       "      <td>12990</td>\n",
       "      <td>10495</td>\n",
       "    </tr>\n",
       "    <tr>\n",
       "      <th>transmission</th>\n",
       "      <td>Manual</td>\n",
       "      <td>Semi-Auto</td>\n",
       "      <td>Automatic</td>\n",
       "      <td>Manual</td>\n",
       "      <td>Manual</td>\n",
       "    </tr>\n",
       "    <tr>\n",
       "      <th>mileage</th>\n",
       "      <td>14480.0</td>\n",
       "      <td>52134.0</td>\n",
       "      <td>11304.0</td>\n",
       "      <td>69072.0</td>\n",
       "      <td>16709.0</td>\n",
       "    </tr>\n",
       "    <tr>\n",
       "      <th>fuelType</th>\n",
       "      <td>etrol</td>\n",
       "      <td>Diesel</td>\n",
       "      <td>Petrol</td>\n",
       "      <td>iesel</td>\n",
       "      <td>Petro</td>\n",
       "    </tr>\n",
       "    <tr>\n",
       "      <th>tax</th>\n",
       "      <td>125.0</td>\n",
       "      <td>200.0</td>\n",
       "      <td>145.0</td>\n",
       "      <td>125.0</td>\n",
       "      <td>145.0</td>\n",
       "    </tr>\n",
       "    <tr>\n",
       "      <th>mpg</th>\n",
       "      <td>53.3</td>\n",
       "      <td>47.9</td>\n",
       "      <td>67.0</td>\n",
       "      <td>60.1</td>\n",
       "      <td>64.2</td>\n",
       "    </tr>\n",
       "    <tr>\n",
       "      <th>engineSize</th>\n",
       "      <td>2.0</td>\n",
       "      <td>2.0</td>\n",
       "      <td>1.0</td>\n",
       "      <td>2.0</td>\n",
       "      <td>1.1</td>\n",
       "    </tr>\n",
       "    <tr>\n",
       "      <th>paintQuality%</th>\n",
       "      <td>78.0</td>\n",
       "      <td>38.0</td>\n",
       "      <td>57.0</td>\n",
       "      <td>74.0</td>\n",
       "      <td>38.0</td>\n",
       "    </tr>\n",
       "    <tr>\n",
       "      <th>previousOwners</th>\n",
       "      <td>0.0</td>\n",
       "      <td>2.0</td>\n",
       "      <td>3.0</td>\n",
       "      <td>2.0</td>\n",
       "      <td>1.0</td>\n",
       "    </tr>\n",
       "    <tr>\n",
       "      <th>hasDamage</th>\n",
       "      <td>0.0</td>\n",
       "      <td>0.0</td>\n",
       "      <td>0.0</td>\n",
       "      <td>0.0</td>\n",
       "      <td>0.0</td>\n",
       "    </tr>\n",
       "  </tbody>\n",
       "</table>\n",
       "</div>"
      ],
      "text/plain": [
       "                   75968      75969      75970    75971    75972\n",
       "carID              37194       6265      54886      860    15795\n",
       "Brand           Mercedes       Audi     Toyota     Audi     Ford\n",
       "model            C Class         Q3       Aygo       Q3   Fiesta\n",
       "year              2015.0     2013.0     2017.0   2015.0   2018.0\n",
       "price              13498      12495       8399    12990    10495\n",
       "transmission      Manual  Semi-Auto  Automatic   Manual   Manual\n",
       "mileage          14480.0    52134.0    11304.0  69072.0  16709.0\n",
       "fuelType           etrol     Diesel     Petrol    iesel    Petro\n",
       "tax                125.0      200.0      145.0    125.0    145.0\n",
       "mpg                 53.3       47.9       67.0     60.1     64.2\n",
       "engineSize           2.0        2.0        1.0      2.0      1.1\n",
       "paintQuality%       78.0       38.0       57.0     74.0     38.0\n",
       "previousOwners       0.0        2.0        3.0      2.0      1.0\n",
       "hasDamage            0.0        0.0        0.0      0.0      0.0"
      ]
     },
     "execution_count": 11,
     "metadata": {},
     "output_type": "execute_result"
    }
   ],
   "source": [
    "df.tail().T"
   ]
  },
  {
   "cell_type": "code",
   "execution_count": 12,
   "metadata": {},
   "outputs": [
    {
     "name": "stdout",
     "output_type": "stream",
     "text": [
      "<class 'pandas.core.frame.DataFrame'>\n",
      "RangeIndex: 75973 entries, 0 to 75972\n",
      "Data columns (total 14 columns):\n",
      " #   Column          Non-Null Count  Dtype  \n",
      "---  ------          --------------  -----  \n",
      " 0   carID           75973 non-null  int64  \n",
      " 1   Brand           74452 non-null  object \n",
      " 2   model           74456 non-null  object \n",
      " 3   year            74482 non-null  float64\n",
      " 4   price           75973 non-null  int64  \n",
      " 5   transmission    74451 non-null  object \n",
      " 6   mileage         74510 non-null  float64\n",
      " 7   fuelType        74462 non-null  object \n",
      " 8   tax             68069 non-null  float64\n",
      " 9   mpg             68047 non-null  float64\n",
      " 10  engineSize      74457 non-null  float64\n",
      " 11  paintQuality%   74449 non-null  float64\n",
      " 12  previousOwners  74423 non-null  float64\n",
      " 13  hasDamage       74425 non-null  float64\n",
      "dtypes: float64(8), int64(2), object(4)\n",
      "memory usage: 8.1+ MB\n"
     ]
    }
   ],
   "source": [
    "#checking the data types of the variables of the training dataset and if there are any missing values\n",
    "df.info()"
   ]
  },
  {
   "cell_type": "code",
   "execution_count": 13,
   "metadata": {},
   "outputs": [
    {
     "data": {
      "text/plain": [
       "mpg               7926\n",
       "tax               7904\n",
       "previousOwners    1550\n",
       "hasDamage         1548\n",
       "paintQuality%     1524\n",
       "transmission      1522\n",
       "Brand             1521\n",
       "model             1517\n",
       "engineSize        1516\n",
       "fuelType          1511\n",
       "year              1491\n",
       "mileage           1463\n",
       "carID                0\n",
       "price                0\n",
       "dtype: int64"
      ]
     },
     "execution_count": 13,
     "metadata": {},
     "output_type": "execute_result"
    }
   ],
   "source": [
    "df.isna().sum().sort_values(ascending=False)"
   ]
  },
  {
   "cell_type": "code",
   "execution_count": 14,
   "metadata": {},
   "outputs": [
    {
     "data": {
      "text/plain": [
       "mpg               10.432654\n",
       "tax               10.403696\n",
       "previousOwners     2.040198\n",
       "hasDamage          2.037566\n",
       "paintQuality%      2.005976\n",
       "transmission       2.003343\n",
       "Brand              2.002027\n",
       "model              1.996762\n",
       "engineSize         1.995446\n",
       "fuelType           1.988864\n",
       "year               1.962539\n",
       "mileage            1.925684\n",
       "carID              0.000000\n",
       "price              0.000000\n",
       "dtype: float64"
      ]
     },
     "execution_count": 14,
     "metadata": {},
     "output_type": "execute_result"
    }
   ],
   "source": [
    "(df.isna().mean() * 100).sort_values(ascending=False)"
   ]
  },
  {
   "cell_type": "markdown",
   "metadata": {},
   "source": [
    "- ~10% missing in mpg and tax → will need imputation  \n",
    "- ~2% missing in other columns → minor, can be handled easily  "
   ]
  },
  {
   "cell_type": "code",
   "execution_count": 15,
   "metadata": {},
   "outputs": [
    {
     "data": {
      "text/plain": [
       "0"
      ]
     },
     "execution_count": 15,
     "metadata": {},
     "output_type": "execute_result"
    }
   ],
   "source": [
    "df.duplicated().sum()"
   ]
  },
  {
   "cell_type": "code",
   "execution_count": 16,
   "metadata": {},
   "outputs": [
    {
     "data": {
      "text/html": [
       "<div>\n",
       "<style scoped>\n",
       "    .dataframe tbody tr th:only-of-type {\n",
       "        vertical-align: middle;\n",
       "    }\n",
       "\n",
       "    .dataframe tbody tr th {\n",
       "        vertical-align: top;\n",
       "    }\n",
       "\n",
       "    .dataframe thead th {\n",
       "        text-align: right;\n",
       "    }\n",
       "</style>\n",
       "<table border=\"1\" class=\"dataframe\">\n",
       "  <thead>\n",
       "    <tr style=\"text-align: right;\">\n",
       "      <th></th>\n",
       "      <th>count</th>\n",
       "      <th>unique</th>\n",
       "      <th>top</th>\n",
       "      <th>freq</th>\n",
       "      <th>mean</th>\n",
       "      <th>std</th>\n",
       "      <th>min</th>\n",
       "      <th>25%</th>\n",
       "      <th>50%</th>\n",
       "      <th>75%</th>\n",
       "      <th>max</th>\n",
       "    </tr>\n",
       "  </thead>\n",
       "  <tbody>\n",
       "    <tr>\n",
       "      <th>carID</th>\n",
       "      <td>75973.0</td>\n",
       "      <td>NaN</td>\n",
       "      <td>NaN</td>\n",
       "      <td>NaN</td>\n",
       "      <td>37986.0</td>\n",
       "      <td>21931.660338</td>\n",
       "      <td>0.0</td>\n",
       "      <td>18993.0</td>\n",
       "      <td>37986.0</td>\n",
       "      <td>56979.0</td>\n",
       "      <td>75972.0</td>\n",
       "    </tr>\n",
       "    <tr>\n",
       "      <th>Brand</th>\n",
       "      <td>74452</td>\n",
       "      <td>72</td>\n",
       "      <td>Ford</td>\n",
       "      <td>14808</td>\n",
       "      <td>NaN</td>\n",
       "      <td>NaN</td>\n",
       "      <td>NaN</td>\n",
       "      <td>NaN</td>\n",
       "      <td>NaN</td>\n",
       "      <td>NaN</td>\n",
       "      <td>NaN</td>\n",
       "    </tr>\n",
       "    <tr>\n",
       "      <th>model</th>\n",
       "      <td>74456</td>\n",
       "      <td>735</td>\n",
       "      <td>Focus</td>\n",
       "      <td>6353</td>\n",
       "      <td>NaN</td>\n",
       "      <td>NaN</td>\n",
       "      <td>NaN</td>\n",
       "      <td>NaN</td>\n",
       "      <td>NaN</td>\n",
       "      <td>NaN</td>\n",
       "      <td>NaN</td>\n",
       "    </tr>\n",
       "    <tr>\n",
       "      <th>year</th>\n",
       "      <td>74482.0</td>\n",
       "      <td>NaN</td>\n",
       "      <td>NaN</td>\n",
       "      <td>NaN</td>\n",
       "      <td>2017.096611</td>\n",
       "      <td>2.208704</td>\n",
       "      <td>1970.0</td>\n",
       "      <td>2016.0</td>\n",
       "      <td>2017.0</td>\n",
       "      <td>2019.0</td>\n",
       "      <td>2024.121759</td>\n",
       "    </tr>\n",
       "    <tr>\n",
       "      <th>price</th>\n",
       "      <td>75973.0</td>\n",
       "      <td>NaN</td>\n",
       "      <td>NaN</td>\n",
       "      <td>NaN</td>\n",
       "      <td>16881.889553</td>\n",
       "      <td>9736.926322</td>\n",
       "      <td>450.0</td>\n",
       "      <td>10200.0</td>\n",
       "      <td>14699.0</td>\n",
       "      <td>20950.0</td>\n",
       "      <td>159999.0</td>\n",
       "    </tr>\n",
       "    <tr>\n",
       "      <th>transmission</th>\n",
       "      <td>74451</td>\n",
       "      <td>40</td>\n",
       "      <td>Manual</td>\n",
       "      <td>38050</td>\n",
       "      <td>NaN</td>\n",
       "      <td>NaN</td>\n",
       "      <td>NaN</td>\n",
       "      <td>NaN</td>\n",
       "      <td>NaN</td>\n",
       "      <td>NaN</td>\n",
       "      <td>NaN</td>\n",
       "    </tr>\n",
       "    <tr>\n",
       "      <th>mileage</th>\n",
       "      <td>74510.0</td>\n",
       "      <td>NaN</td>\n",
       "      <td>NaN</td>\n",
       "      <td>NaN</td>\n",
       "      <td>23004.184088</td>\n",
       "      <td>22129.788366</td>\n",
       "      <td>-58540.574478</td>\n",
       "      <td>7423.25</td>\n",
       "      <td>17300.0</td>\n",
       "      <td>32427.5</td>\n",
       "      <td>323000.0</td>\n",
       "    </tr>\n",
       "    <tr>\n",
       "      <th>fuelType</th>\n",
       "      <td>74462</td>\n",
       "      <td>34</td>\n",
       "      <td>Petrol</td>\n",
       "      <td>37995</td>\n",
       "      <td>NaN</td>\n",
       "      <td>NaN</td>\n",
       "      <td>NaN</td>\n",
       "      <td>NaN</td>\n",
       "      <td>NaN</td>\n",
       "      <td>NaN</td>\n",
       "      <td>NaN</td>\n",
       "    </tr>\n",
       "    <tr>\n",
       "      <th>tax</th>\n",
       "      <td>68069.0</td>\n",
       "      <td>NaN</td>\n",
       "      <td>NaN</td>\n",
       "      <td>NaN</td>\n",
       "      <td>120.329078</td>\n",
       "      <td>65.521176</td>\n",
       "      <td>-91.12163</td>\n",
       "      <td>125.0</td>\n",
       "      <td>145.0</td>\n",
       "      <td>145.0</td>\n",
       "      <td>580.0</td>\n",
       "    </tr>\n",
       "    <tr>\n",
       "      <th>mpg</th>\n",
       "      <td>68047.0</td>\n",
       "      <td>NaN</td>\n",
       "      <td>NaN</td>\n",
       "      <td>NaN</td>\n",
       "      <td>55.152666</td>\n",
       "      <td>16.497837</td>\n",
       "      <td>-43.421768</td>\n",
       "      <td>46.3</td>\n",
       "      <td>54.3</td>\n",
       "      <td>62.8</td>\n",
       "      <td>470.8</td>\n",
       "    </tr>\n",
       "    <tr>\n",
       "      <th>engineSize</th>\n",
       "      <td>74457.0</td>\n",
       "      <td>NaN</td>\n",
       "      <td>NaN</td>\n",
       "      <td>NaN</td>\n",
       "      <td>1.660136</td>\n",
       "      <td>0.573462</td>\n",
       "      <td>-0.103493</td>\n",
       "      <td>1.2</td>\n",
       "      <td>1.6</td>\n",
       "      <td>2.0</td>\n",
       "      <td>6.6</td>\n",
       "    </tr>\n",
       "    <tr>\n",
       "      <th>paintQuality%</th>\n",
       "      <td>74449.0</td>\n",
       "      <td>NaN</td>\n",
       "      <td>NaN</td>\n",
       "      <td>NaN</td>\n",
       "      <td>64.590667</td>\n",
       "      <td>21.021065</td>\n",
       "      <td>1.638913</td>\n",
       "      <td>47.0</td>\n",
       "      <td>65.0</td>\n",
       "      <td>82.0</td>\n",
       "      <td>125.594308</td>\n",
       "    </tr>\n",
       "    <tr>\n",
       "      <th>previousOwners</th>\n",
       "      <td>74423.0</td>\n",
       "      <td>NaN</td>\n",
       "      <td>NaN</td>\n",
       "      <td>NaN</td>\n",
       "      <td>1.99458</td>\n",
       "      <td>1.472981</td>\n",
       "      <td>-2.34565</td>\n",
       "      <td>1.0</td>\n",
       "      <td>2.0</td>\n",
       "      <td>3.0</td>\n",
       "      <td>6.258371</td>\n",
       "    </tr>\n",
       "    <tr>\n",
       "      <th>hasDamage</th>\n",
       "      <td>74425.0</td>\n",
       "      <td>NaN</td>\n",
       "      <td>NaN</td>\n",
       "      <td>NaN</td>\n",
       "      <td>0.0</td>\n",
       "      <td>0.0</td>\n",
       "      <td>0.0</td>\n",
       "      <td>0.0</td>\n",
       "      <td>0.0</td>\n",
       "      <td>0.0</td>\n",
       "      <td>0.0</td>\n",
       "    </tr>\n",
       "  </tbody>\n",
       "</table>\n",
       "</div>"
      ],
      "text/plain": [
       "                  count unique     top   freq          mean           std  \\\n",
       "carID           75973.0    NaN     NaN    NaN       37986.0  21931.660338   \n",
       "Brand             74452     72    Ford  14808           NaN           NaN   \n",
       "model             74456    735   Focus   6353           NaN           NaN   \n",
       "year            74482.0    NaN     NaN    NaN   2017.096611      2.208704   \n",
       "price           75973.0    NaN     NaN    NaN  16881.889553   9736.926322   \n",
       "transmission      74451     40  Manual  38050           NaN           NaN   \n",
       "mileage         74510.0    NaN     NaN    NaN  23004.184088  22129.788366   \n",
       "fuelType          74462     34  Petrol  37995           NaN           NaN   \n",
       "tax             68069.0    NaN     NaN    NaN    120.329078     65.521176   \n",
       "mpg             68047.0    NaN     NaN    NaN     55.152666     16.497837   \n",
       "engineSize      74457.0    NaN     NaN    NaN      1.660136      0.573462   \n",
       "paintQuality%   74449.0    NaN     NaN    NaN     64.590667     21.021065   \n",
       "previousOwners  74423.0    NaN     NaN    NaN       1.99458      1.472981   \n",
       "hasDamage       74425.0    NaN     NaN    NaN           0.0           0.0   \n",
       "\n",
       "                         min      25%      50%      75%          max  \n",
       "carID                    0.0  18993.0  37986.0  56979.0      75972.0  \n",
       "Brand                    NaN      NaN      NaN      NaN          NaN  \n",
       "model                    NaN      NaN      NaN      NaN          NaN  \n",
       "year                  1970.0   2016.0   2017.0   2019.0  2024.121759  \n",
       "price                  450.0  10200.0  14699.0  20950.0     159999.0  \n",
       "transmission             NaN      NaN      NaN      NaN          NaN  \n",
       "mileage        -58540.574478  7423.25  17300.0  32427.5     323000.0  \n",
       "fuelType                 NaN      NaN      NaN      NaN          NaN  \n",
       "tax                -91.12163    125.0    145.0    145.0        580.0  \n",
       "mpg               -43.421768     46.3     54.3     62.8        470.8  \n",
       "engineSize         -0.103493      1.2      1.6      2.0          6.6  \n",
       "paintQuality%       1.638913     47.0     65.0     82.0   125.594308  \n",
       "previousOwners      -2.34565      1.0      2.0      3.0     6.258371  \n",
       "hasDamage                0.0      0.0      0.0      0.0          0.0  "
      ]
     },
     "execution_count": 16,
     "metadata": {},
     "output_type": "execute_result"
    }
   ],
   "source": [
    "df.describe(include='all').T"
   ]
  },
  {
   "cell_type": "markdown",
   "metadata": {},
   "source": [
    "- Negative or unrealistic values found (mileage, mpg, tax, engineSize, previousOwners)  \n",
    "- paintQuality% above 100 → clip to [0,100]  \n",
    "- year has decimals / future dates → fix later\n",
    "- fuelType and transmission have too many categories → need cleaning (typos, casing)  \n",
    "- hasDamage should be boolean  \n",
    "- previousOwners and year should be integers\n",
    "- carID is just an identifier → drop from training  \n",
    "\n"
   ]
  },
  {
   "cell_type": "code",
   "execution_count": 17,
   "metadata": {},
   "outputs": [
    {
     "data": {
      "image/png": "[encoded data removed]",
      "text/plain": [
       "<Figure size 1500x1000 with 9 Axes>"
      ]
     },
     "metadata": {},
     "output_type": "display_data"
    }
   ],
   "source": [
    "num_cols = df.select_dtypes(include=['int64', 'float64']).columns.drop('carID')\n",
    "df[num_cols].hist(figsize=(15,10), bins=30)\n",
    "plt.suptitle(\"Numeric Feature Distributions\")\n",
    "plt.show()\n"
   ]
  },
  {
   "cell_type": "markdown",
   "metadata": {},
   "source": [
    "<div class=\"alert alert-block alert-success\"> <a id = \"preprocessing\"></a>\n",
    "\n",
    "# 3. Preprocessing"
   ]
  }
 ],
 "metadata": {
  "kernelspec": {
   "display_name": "base",
   "language": "python",
   "name": "python3"
  },
  "language_info": {
   "codemirror_mode": {
    "name": "ipython",
    "version": 3
   },
   "file_extension": ".py",
   "mimetype": "text/x-python",
   "name": "python",
   "nbconvert_exporter": "python",
   "pygments_lexer": "ipython3",
   "version": "3.12.3"
  },
  "varInspector": {
   "cols": {
    "lenName": 16,
    "lenType": 16,
    "lenVar": 40
   },
   "kernels_config": {
    "python": {
     "delete_cmd_postfix": "",
     "delete_cmd_prefix": "del ",
     "library": "var_list.py",
     "varRefreshCmd": "print(var_dic_list())"
    },
    "r": {
     "delete_cmd_postfix": ") ",
     "delete_cmd_prefix": "rm(",
     "library": "var_list.r",
     "varRefreshCmd": "cat(var_dic_list()) "
    }
   },
   "types_to_exclude": [
    "module",
    "function",
    "builtin_function_or_method",
    "instance",
    "_Feature"
   ],
   "window_display": false
  }
 },
 "nbformat": 4,
 "nbformat_minor": 4
}
