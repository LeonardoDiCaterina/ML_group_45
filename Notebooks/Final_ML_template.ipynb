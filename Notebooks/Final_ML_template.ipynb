{
 "cells": [
  {
   "cell_type": "markdown",
   "id": "6363302e",
   "metadata": {
    "vscode": {
     "languageId": "sql"
    }
   },
   "source": [
    "# ML — SVR Modeling (Clean Data Template)\n",
    "\n",
    "\n",
    "Purpose\n",
    "-------\n",
    "Prepare cleaned, model-ready car-pricing data and evaluate Support Vector Regression baselines using the project's preprocessing utilities and feature-selection procedures.\n",
    "\n",
    "\n",
    "\n",
    "Datasets used\n",
    "--------------\n",
    "- `Data/train.csv` — labeled training data\n",
    "- `Data/test.csv` — unlabeled test data (used for final submission workflows)\n",
    "- External vehicle models (downloaded from Kaggle: `vehicle models.json`)\n",
    "\n",
    "\n",
    "\n",
    "Expected outputs\n",
    "----------------\n",
    "- A fitted `DataPreprocessor` instance for reproducible transforms\n",
    "- A concise selected feature list (from feature-selection steps)\n",
    "- Trained baseline models (SVR and optionally others) and saved model artifacts (pickle/joblib)\n",
    "- Evaluation metrics: RMSE, MAE, R² (table)\n",
    "- Diagnostic figures: predicted vs true, residuals, error distribution\n",
    "- Optional: a submission CSV ready for Kaggle"
   ]
  },
  {
   "cell_type": "markdown",
   "id": "0c6edd17",
   "metadata": {},
   "source": [
    "## Table of Contents\n",
    "- [Environment & Imports](#Environment--Imports)  \n",
    "- [Data Loading](#Data-Loading)\n",
    "- [Preprocessing Pipeline](#Preprocessing-Pipeline)  \n",
    "- [Feature Engineering & Selection](#Feature-Engineering-&-Selection)\n",
    "- [Train / Validation / Test Splits](#Train-/-Validation-/-Test-splits)\n",
    "- [Model Definition & Training](#Model-Definition-&-Training)\n",
    "- [Hyperparameter Search](#Hyperparameter-Search)\n",
    "- [Model Evaluation & Diagnostics](#Model-Evaluation-&-Diagnostics)\n",
    "- [Final Predictions & Submission](#Final-Predictions-&-Submission)\n",
    "- [Conclusions & Next Steps](#Conclusions-&-Next-Steps)\n",
    "- [Appendix & Utilities](#Appendix-&-Utilities)"
   ]
  },
  {
   "cell_type": "markdown",
   "id": "17826ac5",
   "metadata": {},
   "source": [
    "## Data Loading\n",
    "Load the primary datasets into pandas DataFrames and run a very short inspection (shape, dtypes, top rows, and missing-value counts). Keep heavy EDA in a separate notebook to keep this file concise."
   ]
  },
  {
   "cell_type": "code",
   "execution_count": 1,
   "id": "5245f1bb",
   "metadata": {},
   "outputs": [
    {
     "name": "stderr",
     "output_type": "stream",
     "text": [
      "/opt/anaconda3/envs/ML_env/lib/python3.12/site-packages/tqdm/auto.py:21: TqdmWarning: IProgress not found. Please update jupyter and ipywidgets. See https://ipywidgets.readthedocs.io/en/stable/user_install.html\n",
      "  from .autonotebook import tqdm as notebook_tqdm\n"
     ]
    },
    {
     "name": "stdout",
     "output_type": "stream",
     "text": [
      "SIMPLE ML TEMPLATE - FAST CLEAN DATA\n",
      "=============================================\n",
      "Configuration: {'random_state': 42, 'target_column': 'price', 'outlier_removal': True, 'feature_scaling': True, 'encoding_method': 'onehot', 'log_transform_mileage': True, 'convert_year_to_age': True, 'normalize_paint': True, 'normalize_engine': True, 'test_size': 0.2, 'feature_selection_size': 0.16, 'n_splits': 5, 'n_repeats': 5, 'SHORT_SEARCH': False, 'MAX_COMBINATIONS': 3, 'model_class': <class 'sklearn.ensemble._forest.RandomForestRegressor'>, 'param_grid': {'n_estimators': [50, 100, 200], 'max_depth': [None, 10, 20], 'min_samples_split': [2, 5, 10]}}\n"
     ]
    }
   ],
   "source": [
    "import pandas as pd\n",
    "import numpy as np\n",
    "import os\n",
    "import json\n",
    "import kagglehub\n",
    "import warnings\n",
    "import traceback\n",
    "warnings.filterwarnings('ignore')\n",
    "import numpy as np\n",
    "import matplotlib.pyplot as plt\n",
    "import tqdm\n",
    "from sklearn.model_selection import RepeatedKFold\n",
    "from sklearn.ensemble import RandomForestRegressor\n",
    "from sklearn.svm import SVR\n",
    "from sklearn.neural_network import MLPRegressor\n",
    "\n",
    "import itertools\n",
    "import random\n",
    "\n",
    "# Load preprocessing classes\n",
    "os.chdir('../')  # Change to project root directory\n",
    "# Preprocessing and utility imports\n",
    "from utils.preprocessing.CarDatabase import ProductionCarMatcher, create_optimized_database\n",
    "from utils.preprocessing.Cardinal_Preprocessor import CardinalMapper\n",
    "\n",
    "\n",
    "\n",
    "print(\"SIMPLE ML TEMPLATE - FAST CLEAN DATA\")\n",
    "print(\"=\" * 45)\n",
    "\n",
    "\n",
    "param_grid_svr = {\n",
    "    'C': [0.1, 1, 10],\n",
    "    'epsilon': [0.01, 0.1, 1],\n",
    "    'kernel': ['linear', 'rbf', 'poly']\n",
    "}\n",
    "\n",
    "param_grid_rf = {\n",
    "    'n_estimators': [50, 100, 200],\n",
    "    'max_depth': [None, 10, 20],\n",
    "    'min_samples_split': [2, 5, 10]\n",
    "}\n",
    "\n",
    "\n",
    "# CONFIGURATION - Change these as needed\n",
    "CONFIG = {\n",
    "\n",
    "    'random_state': 42,\n",
    "    'target_column': 'price',\n",
    "    \n",
    "    # Preprocessing options\n",
    "    'outlier_removal': True,          # Remove outliers?\n",
    "    'feature_scaling': True,          # Scale features?\n",
    "    'encoding_method': 'onehot',        # 'mean', 'onehot'\n",
    "    \n",
    "    # Feature transformations\n",
    "    'log_transform_mileage': True,    # Log transform mileage?\n",
    "    'convert_year_to_age': True,      # Convert year to car age?\n",
    "    'normalize_paint': True,          # Normalize paint quality to 0-1?\n",
    "    'normalize_engine': True,         # Convert engine size units?\n",
    "    \n",
    "    # Data splitting\n",
    "    'test_size': 0.2,                 # Proportion of data for testing\n",
    "    'feature_selection_size': 0.16,   # Proportion of training data for feature selection\n",
    "    \n",
    "    # Model selection\n",
    "    'n_splits': 5,                   # Number of reppetead K-Fold splits\n",
    "    'n_repeats': 5,                  # Number of repeats for K-Fold\n",
    "    \n",
    "    # Toggle a short search for fast iteration (set to False for full grid)\n",
    "    'SHORT_SEARCH': False,\n",
    "    'MAX_COMBINATIONS': 3,                              # when SHORT_SEARCH=True, sample up to this many combinations\n",
    "    'model_class': RandomForestRegressor,               # can be SVR, RandomForestRegressor, MLPRegressor\n",
    "    'param_grid': param_grid_rf                        # can be param_grid_svr, param_grid_rf, etc.\n",
    "}\n",
    "if CONFIG['SHORT_SEARCH']:\n",
    "    CONFIG['n_splits'] = 2\n",
    "    CONFIG['n_repeats'] = 2\n",
    "    print(\"WARNING: SHORT_SEARCH is enabled. Using a subset of data and parameter combinations for quick testing, not for final evaluation.\")\n",
    "print(f\"Configuration: {CONFIG}\")"
   ]
  },
  {
   "cell_type": "markdown",
   "id": "4ed9b12b",
   "metadata": {},
   "source": [
    "## Data Loading\n",
    "Loads the raw CSV files into pandas DataFrames and performs a quick sanity check (shape, dtypes, head, missing values). Run this cell before the preprocessing pipeline."
   ]
  },
  {
   "cell_type": "code",
   "execution_count": 2,
   "id": "ba6e0ffc",
   "metadata": {},
   "outputs": [
    {
     "name": "stdout",
     "output_type": "stream",
     "text": [
      "Loaded: train -> (75973, 14), test -> (32567, 13)\n",
      "\n",
      "--- Train dtypes ---\n",
      "carID               int64\n",
      "Brand              object\n",
      "model              object\n",
      "year              float64\n",
      "price               int64\n",
      "transmission       object\n",
      "mileage           float64\n",
      "fuelType           object\n",
      "tax               float64\n",
      "mpg               float64\n",
      "engineSize        float64\n",
      "paintQuality%     float64\n",
      "previousOwners    float64\n",
      "hasDamage         float64\n",
      "dtype: object\n",
      "\n",
      "--- Train head (5 rows) ---\n"
     ]
    },
    {
     "data": {
      "application/vnd.microsoft.datawrangler.viewer.v0+json": {
       "columns": [
        {
         "name": "index",
         "rawType": "int64",
         "type": "integer"
        },
        {
         "name": "carID",
         "rawType": "int64",
         "type": "integer"
        },
        {
         "name": "Brand",
         "rawType": "object",
         "type": "string"
        },
        {
         "name": "model",
         "rawType": "object",
         "type": "string"
        },
        {
         "name": "year",
         "rawType": "float64",
         "type": "float"
        },
        {
         "name": "price",
         "rawType": "int64",
         "type": "integer"
        },
        {
         "name": "transmission",
         "rawType": "object",
         "type": "string"
        },
        {
         "name": "mileage",
         "rawType": "float64",
         "type": "float"
        },
        {
         "name": "fuelType",
         "rawType": "object",
         "type": "string"
        },
        {
         "name": "tax",
         "rawType": "float64",
         "type": "float"
        },
        {
         "name": "mpg",
         "rawType": "float64",
         "type": "float"
        },
        {
         "name": "engineSize",
         "rawType": "float64",
         "type": "float"
        },
        {
         "name": "paintQuality%",
         "rawType": "float64",
         "type": "float"
        },
        {
         "name": "previousOwners",
         "rawType": "float64",
         "type": "float"
        },
        {
         "name": "hasDamage",
         "rawType": "float64",
         "type": "float"
        }
       ],
       "ref": "8e4e93c0-6b99-49d0-8944-5608949b9691",
       "rows": [
        [
         "0",
         "69512",
         "VW",
         " Golf",
         "2016.0",
         "22290",
         "Semi-Auto",
         "28421.0",
         "Petrol",
         null,
         "11.417267753816397",
         "2.0",
         "63.0",
         "4.0",
         "0.0"
        ],
        [
         "1",
         "53000",
         "Toyota",
         " Yaris",
         "2019.0",
         "13790",
         "Manual",
         "4589.0",
         "Petrol",
         "145.0",
         "47.9",
         "1.5",
         "50.0",
         "1.0",
         "0.0"
        ],
        [
         "2",
         "6366",
         "Audi",
         " Q2",
         "2019.0",
         "24990",
         "Semi-Auto",
         "3624.0",
         "Petrol",
         "145.0",
         "40.9",
         "1.5",
         "56.0",
         "4.0",
         "0.0"
        ],
        [
         "3",
         "29021",
         "Ford",
         " FIESTA",
         "2018.0",
         "12500",
         "anual",
         "9102.0",
         "Petrol",
         "145.0",
         "65.7",
         "1.0",
         "50.0",
         "-2.3403062167884485",
         "0.0"
        ],
        [
         "4",
         "10062",
         "BMW",
         " 2 Series",
         "2019.0",
         "22995",
         "Manual",
         "1000.0",
         "Petrol",
         "145.0",
         "42.8",
         "1.5",
         "97.0",
         "3.0",
         "0.0"
        ]
       ],
       "shape": {
        "columns": 14,
        "rows": 5
       }
      },
      "text/html": [
       "<div>\n",
       "<style scoped>\n",
       "    .dataframe tbody tr th:only-of-type {\n",
       "        vertical-align: middle;\n",
       "    }\n",
       "\n",
       "    .dataframe tbody tr th {\n",
       "        vertical-align: top;\n",
       "    }\n",
       "\n",
       "    .dataframe thead th {\n",
       "        text-align: right;\n",
       "    }\n",
       "</style>\n",
       "<table border=\"1\" class=\"dataframe\">\n",
       "  <thead>\n",
       "    <tr style=\"text-align: right;\">\n",
       "      <th></th>\n",
       "      <th>carID</th>\n",
       "      <th>Brand</th>\n",
       "      <th>model</th>\n",
       "      <th>year</th>\n",
       "      <th>price</th>\n",
       "      <th>transmission</th>\n",
       "      <th>mileage</th>\n",
       "      <th>fuelType</th>\n",
       "      <th>tax</th>\n",
       "      <th>mpg</th>\n",
       "      <th>engineSize</th>\n",
       "      <th>paintQuality%</th>\n",
       "      <th>previousOwners</th>\n",
       "      <th>hasDamage</th>\n",
       "    </tr>\n",
       "  </thead>\n",
       "  <tbody>\n",
       "    <tr>\n",
       "      <th>0</th>\n",
       "      <td>69512</td>\n",
       "      <td>VW</td>\n",
       "      <td>Golf</td>\n",
       "      <td>2016.0</td>\n",
       "      <td>22290</td>\n",
       "      <td>Semi-Auto</td>\n",
       "      <td>28421.0</td>\n",
       "      <td>Petrol</td>\n",
       "      <td>NaN</td>\n",
       "      <td>11.417268</td>\n",
       "      <td>2.0</td>\n",
       "      <td>63.0</td>\n",
       "      <td>4.000000</td>\n",
       "      <td>0.0</td>\n",
       "    </tr>\n",
       "    <tr>\n",
       "      <th>1</th>\n",
       "      <td>53000</td>\n",
       "      <td>Toyota</td>\n",
       "      <td>Yaris</td>\n",
       "      <td>2019.0</td>\n",
       "      <td>13790</td>\n",
       "      <td>Manual</td>\n",
       "      <td>4589.0</td>\n",
       "      <td>Petrol</td>\n",
       "      <td>145.0</td>\n",
       "      <td>47.900000</td>\n",
       "      <td>1.5</td>\n",
       "      <td>50.0</td>\n",
       "      <td>1.000000</td>\n",
       "      <td>0.0</td>\n",
       "    </tr>\n",
       "    <tr>\n",
       "      <th>2</th>\n",
       "      <td>6366</td>\n",
       "      <td>Audi</td>\n",
       "      <td>Q2</td>\n",
       "      <td>2019.0</td>\n",
       "      <td>24990</td>\n",
       "      <td>Semi-Auto</td>\n",
       "      <td>3624.0</td>\n",
       "      <td>Petrol</td>\n",
       "      <td>145.0</td>\n",
       "      <td>40.900000</td>\n",
       "      <td>1.5</td>\n",
       "      <td>56.0</td>\n",
       "      <td>4.000000</td>\n",
       "      <td>0.0</td>\n",
       "    </tr>\n",
       "    <tr>\n",
       "      <th>3</th>\n",
       "      <td>29021</td>\n",
       "      <td>Ford</td>\n",
       "      <td>FIESTA</td>\n",
       "      <td>2018.0</td>\n",
       "      <td>12500</td>\n",
       "      <td>anual</td>\n",
       "      <td>9102.0</td>\n",
       "      <td>Petrol</td>\n",
       "      <td>145.0</td>\n",
       "      <td>65.700000</td>\n",
       "      <td>1.0</td>\n",
       "      <td>50.0</td>\n",
       "      <td>-2.340306</td>\n",
       "      <td>0.0</td>\n",
       "    </tr>\n",
       "    <tr>\n",
       "      <th>4</th>\n",
       "      <td>10062</td>\n",
       "      <td>BMW</td>\n",
       "      <td>2 Series</td>\n",
       "      <td>2019.0</td>\n",
       "      <td>22995</td>\n",
       "      <td>Manual</td>\n",
       "      <td>1000.0</td>\n",
       "      <td>Petrol</td>\n",
       "      <td>145.0</td>\n",
       "      <td>42.800000</td>\n",
       "      <td>1.5</td>\n",
       "      <td>97.0</td>\n",
       "      <td>3.000000</td>\n",
       "      <td>0.0</td>\n",
       "    </tr>\n",
       "  </tbody>\n",
       "</table>\n",
       "</div>"
      ],
      "text/plain": [
       "   carID   Brand      model    year  price transmission  mileage fuelType  \\\n",
       "0  69512      VW       Golf  2016.0  22290    Semi-Auto  28421.0   Petrol   \n",
       "1  53000  Toyota      Yaris  2019.0  13790       Manual   4589.0   Petrol   \n",
       "2   6366    Audi         Q2  2019.0  24990    Semi-Auto   3624.0   Petrol   \n",
       "3  29021    Ford     FIESTA  2018.0  12500        anual   9102.0   Petrol   \n",
       "4  10062     BMW   2 Series  2019.0  22995       Manual   1000.0   Petrol   \n",
       "\n",
       "     tax        mpg  engineSize  paintQuality%  previousOwners  hasDamage  \n",
       "0    NaN  11.417268         2.0           63.0        4.000000        0.0  \n",
       "1  145.0  47.900000         1.5           50.0        1.000000        0.0  \n",
       "2  145.0  40.900000         1.5           56.0        4.000000        0.0  \n",
       "3  145.0  65.700000         1.0           50.0       -2.340306        0.0  \n",
       "4  145.0  42.800000         1.5           97.0        3.000000        0.0  "
      ]
     },
     "metadata": {},
     "output_type": "display_data"
    },
    {
     "name": "stdout",
     "output_type": "stream",
     "text": [
      "\n",
      "--- Top 10 missing counts (train) ---\n",
      "mpg               7926\n",
      "tax               7904\n",
      "previousOwners    1550\n",
      "hasDamage         1548\n",
      "paintQuality%     1524\n",
      "transmission      1522\n",
      "Brand             1521\n",
      "model             1517\n",
      "engineSize        1516\n",
      "fuelType          1511\n",
      "dtype: int64\n",
      "\n",
      "--- Top 10 missing percent (train) ---\n",
      "mpg               10.43\n",
      "tax               10.40\n",
      "previousOwners     2.04\n",
      "hasDamage          2.04\n",
      "paintQuality%      2.01\n",
      "transmission       2.00\n",
      "Brand              2.00\n",
      "model              2.00\n",
      "engineSize         2.00\n",
      "fuelType           1.99\n",
      "dtype: float64\n"
     ]
    }
   ],
   "source": [
    "# Load datasets and quick sanity checks\n",
    "raw_train_data = pd.read_csv('Data/train.csv')\n",
    "test_data = pd.read_csv('Data/test.csv')\n",
    "if CONFIG['SHORT_SEARCH']:\n",
    "    raw_train_data = raw_train_data.sample(n=500, random_state=CONFIG['random_state']).reset_index(drop=True)\n",
    "    test_data = test_data.sample(n=200, random_state=CONFIG['random_state']).reset_index(drop=True)\n",
    "\n",
    "print(f\"Loaded: train -> {raw_train_data.shape}, test -> {test_data.shape}\")\n",
    "\n",
    "print('\\n--- Train dtypes ---')\n",
    "print(raw_train_data.dtypes)\n",
    "\n",
    "print('\\n--- Train head (5 rows) ---')\n",
    "display(raw_train_data.head(5))\n",
    "\n",
    "print('\\n--- Top 10 missing counts (train) ---')\n",
    "print(raw_train_data.isnull().sum().sort_values(ascending=False).head(10))\n",
    "\n",
    "missing_pct = (raw_train_data.isnull().mean() * 100).sort_values(ascending=False).head(10)\n",
    "print('\\n--- Top 10 missing percent (train) ---')\n",
    "print(missing_pct.round(2))\n",
    "\n",
    "# Keep canonical variable names used later in the notebook\n",
    "train_data = raw_train_data.copy()\n"
   ]
  },
  {
   "cell_type": "markdown",
   "id": "66c6494c",
   "metadata": {},
   "source": [
    "## Preprocessing Pipeline Explanation\n",
    "This section explains the high-level purpose of preprocessing and shows a minimal example of using the project's `DataPreprocessor` to produce model-ready features (X) and target (y).\n",
    "\n",
    "Why & what\n",
    "-----------\n",
    "- Why: Ensure consistent handling of missing values, outliers, encoding and scaling so models receive reproducible, comparable inputs.\n",
    "- What: Use `utils.preprocessing.DataPreprocessor` to encapsulate feature pipelines (imputation, transforms, encoding, scaling). Keep detailed pipeline code in `utils/` and call it from the notebook.\n",
    "\n",
    "Contract\n",
    "--------\n",
    "- Inputs: Raw pandas DataFrame (must contain the target column defined in `CONFIG['target_column']`).\n",
    "- Outputs: X (DataFrame of processed features), y (Series of target values).\n",
    "- Errors: Missing target or required columns will raise a clear exception. Keep datasets sampled during development to speed iteration.\n",
    "\n",
    "```python\n",
    "# Minimal example usage of DataPreprocessor (high-level)\n",
    "from utils.preprocessing.Preprocessor_divided import DataPreprocessor\n",
    "from utils.preprocessing.Cardinal_Preprocessor import CardinalMapper\n",
    "import joblib\n",
    "\n",
    "# Initialize preprocessor (detailed pipelines live in `utils/` and/or are configured below using `feature_configs`)\n",
    "preprocessor = DataPreprocessor(target_column=CONFIG['target_column'])\n",
    "\n",
    "# Example: add a couple of feature pipelines in-place (keep full config in `feature_configs` later)\n",
    "preprocessor.add_feature_pipeline('mileage', missing_strategy='median', transform_func=(log_transform if CONFIG.get('log_transform_mileage') else None), scaling_method=('standard' if CONFIG.get('feature_scaling') else None))\n",
    "preprocessor.add_feature_pipeline('year', missing_strategy='mean', transform_func=(year_to_age if CONFIG.get('convert_year_to_age') else None), scaling_method=('minmax' if CONFIG.get('feature_scaling') else None))\n",
    "\n",
    "# Fit-transform on a small sample for quick iteration (swap to full `train_data` when ready)\n",
    "sample_train = train_data.sample(frac=0.2, random_state=CONFIG['random_state'])\n",
    "X_sample, y_sample = preprocessor.fit_transform(sample_train)\n",
    "\n",
    "print(f\"Preprocessor fit on sample -> X: {X_sample.shape}, y: {y_sample.shape}\")\n",
    "\n",
    "# Persist fitted preprocessor for reproducibility (optional)\n",
    "joblib.dump(preprocessor, 'artifacts/fitted_preprocessor_sample.joblib')\n",
    "```\n"
   ]
  },
  {
   "cell_type": "markdown",
   "id": "c90994c6",
   "metadata": {},
   "source": [
    "## Preprocessing Pipeline\n",
    "Why & What\n",
    "- Why: Convert raw, messy car data into a reproducible, model-ready feature matrix (X) and target vector (y).\n",
    "- What: We reuse the project's preprocessing utilities in `utils/preprocessing/` (e.g., `DataPreprocessor`, `CardinalMapper`) so the notebook stays high-level.\n",
    "\n",
    "\n",
    "\n",
    "Contract (short)\n",
    "- Inputs: `train_data` DataFrame with expected raw columns, `CONFIG` and `feature_configs` defined above.\n",
    "- Outputs: `X` (DataFrame), `y` (Series), and a fitted `preprocessor` object.\n",
    "- Error modes: missing target column will raise; unexpected/missing features will be skipped with a warning."
   ]
  },
  {
   "cell_type": "code",
   "execution_count": 3,
   "id": "e9472c3b",
   "metadata": {},
   "outputs": [
    {
     "name": "stdout",
     "output_type": "stream",
     "text": [
      "Analyzing word frequencies...\n",
      "Created optimized database with 146 makes\n",
      "Cleaning 75973 records...\n"
     ]
    },
    {
     "name": "stderr",
     "output_type": "stream",
     "text": [
      "Processing records: 100%|██████████| 75973/75973 [03:18<00:00, 382.76it/s]\n"
     ]
    },
    {
     "name": "stdout",
     "output_type": "stream",
     "text": [
      "Cleaning 32567 records...\n"
     ]
    },
    {
     "name": "stderr",
     "output_type": "stream",
     "text": [
      "Processing records: 100%|██████████| 32567/32567 [01:27<00:00, 373.34it/s]\n"
     ]
    },
    {
     "name": "stdout",
     "output_type": "stream",
     "text": [
      "Mapping fuelType and transmission columns...\n",
      "fuelType value counts:\n",
      "fuelType\n",
      "Petrol      41181\n",
      "Diesel      30885\n",
      "Hybrid       2225\n",
      "Other        1678\n",
      "Electric        4\n",
      "Name: count, dtype: int64\n",
      "transmission value counts:\n",
      "transmission\n",
      "Manual       41627\n",
      "Semi-Auto    16872\n",
      "Automatic    15211\n",
      "Other         2263\n",
      "Name: count, dtype: int64\n"
     ]
    }
   ],
   "source": [
    "raw_train_data = pd.read_csv('Data/train.csv')\n",
    "test_data = pd.read_csv('Data/test.csv')\n",
    "path = kagglehub.dataset_download(\"bourzamraid/global-car-make-and-model-list\")\n",
    "with open(os.path.join(path, 'vehicle models.json'), 'r') as f:\n",
    "    kaggle_data = json.load(f)\n",
    "        \n",
    "# Create matcher and clean brands\n",
    "optimized_db = create_optimized_database(kaggle_data, max_model_words=3)\n",
    "matcher = ProductionCarMatcher(optimized_db)\n",
    "        \n",
    "_, train_data_results  =  matcher.clean_dataframe(raw_train_data,\n",
    "                                        'Brand',\n",
    "                                        'model')\n",
    "_, test_data_results  =  matcher.clean_dataframe(test_data,\n",
    "                                        'Brand',\n",
    "                                        'model')\n",
    "# concat the cleaned data with the target column\n",
    "train_data = pd.concat([raw_train_data.loc[train_data_results.index], train_data_results[['clean_make', 'clean_model']]], axis=1)\n",
    "test_data = pd.concat([test_data.loc[test_data_results.index], test_data_results[['clean_make', 'clean_model']]], axis=1)\n",
    "# dorp Brand and model columns\n",
    "train_data = train_data.drop(columns=['Brand', 'model'])\n",
    "test_data = test_data.drop(columns=['Brand', 'model'])\n",
    "\n",
    "fueltype_dict = {\n",
    "    'Petrol': (['petrol', 'petro', 'etrol', 'etro', 'petr', 'ptrol' ],\n",
    "               [ 'diesel', 'hybrid', 'electric',  'other' ]),\n",
    "    'Diesel': (['diesel', 'diese', 'iesel', 'iese', 'dise' ],\n",
    "               [ 'petrol', 'hybrid', 'electric',  'other' ]),\n",
    "    'Hybrid': (['hybrid', 'hybri', 'ybrid', 'ybri', 'hyb' ],\n",
    "               [ 'petrol', 'diesel', 'electric',  'other' ]),\n",
    "    'Electric': (['electric', 'elect', 'elec' ],\n",
    "               [ 'petrol', 'diesel', 'hybrid',  'other' ]),\n",
    "    'Other': (['other', 'othe', 'oth' ],\n",
    "               [ 'petrol', 'diesel', 'hybrid',  'electric' ]) }\n",
    "\n",
    "transmission_dict = {\n",
    "    'Manual': ([ 'man', 'manual', 'm', 'stick', 'standard', 'mt' ],\n",
    "               [ 'auto', 'semi', 'automatic', 'tiptronic', 'emi','mi','other' ]),\n",
    "    'Semi-Auto': (['semi', 'semi-auto', 'tiptronic', 'emi','mi' ],\n",
    "                    [ 'manual', 'stick', 'full manual', 'Other' ]),\n",
    "    'Automatic': (['auto', 'automatic', 'a', 'at' ],\n",
    "                  [ 'semi', 'manual', 'stick', 'tiptronic', 'emi','mi', 'other' ]) }\n",
    "\n",
    "\n",
    "fuel_mapper = CardinalMapper(fueltype_dict)\n",
    "transmission_mapper = CardinalMapper(transmission_dict)\n",
    "\n",
    "print(\"Mapping fuelType and transmission columns...\")\n",
    "train_data['fuelType'] = fuel_mapper.fit_transform(train_data['fuelType'])\n",
    "train_data['transmission'] = transmission_mapper.fit_transform(train_data['transmission'])\n",
    "print(f\"fuelType value counts:\\n{train_data['fuelType'].value_counts()}\")\n",
    "test_data['fuelType'] = fuel_mapper.fit_transform(test_data['fuelType'])\n",
    "test_data['transmission'] = transmission_mapper.fit_transform(test_data['transmission'])\n",
    "print(f\"transmission value counts:\\n{train_data['transmission'].value_counts()}\")\n"
   ]
  },
  {
   "cell_type": "code",
   "execution_count": 4,
   "id": "485e4e09",
   "metadata": {},
   "outputs": [],
   "source": [
    "# Define transformations that can be applied to features\n",
    "def log_transform(x:pd.Series)->pd.Series:\n",
    "    return np.log1p(np.abs(x)+1)\n",
    "\n",
    "def year_to_age(year_series:pd.Series)->pd.Series:\n",
    "    return 2025 - np.abs(np.floor(year_series))\n",
    "\n",
    "def normalize_paint(paint_series:pd.Series)->pd.Series:\n",
    "    return np.clip(paint_series, 0, 100) / 100\n",
    "\n",
    "def normalize_engine(engine_series:pd.Series)->pd.Series:\n",
    "    result = engine_series.copy()\n",
    "    small_engines = engine_series <= 10\n",
    "    result[small_engines] = engine_series[small_engines] * 1000\n",
    "    return result\n"
   ]
  },
  {
   "cell_type": "code",
   "execution_count": 5,
   "id": "65464679",
   "metadata": {},
   "outputs": [],
   "source": [
    "from utils.preprocessing.Preprocessor_divided import DataPreprocessor"
   ]
  },
  {
   "cell_type": "code",
   "execution_count": null,
   "id": "7ea35d5f",
   "metadata": {},
   "outputs": [],
   "source": [
    "# Configure features\n",
    "feature_configs = {\n",
    "    'mileage': {\n",
    "        'missing_strategy': 'median',\n",
    "        'outlier_method': 'iqr' if CONFIG['outlier_removal'] else None,\n",
    "        'transform_func': log_transform if CONFIG['log_transform_mileage'] else None,\n",
    "        'scaling_method': 'standard' if CONFIG['feature_scaling'] else None\n",
    "    },\n",
    "    'year': {\n",
    "        'missing_strategy': 'mean',\n",
    "        'transform_func': year_to_age if CONFIG['convert_year_to_age'] else None,\n",
    "        'scaling_method': 'minmax' if CONFIG['feature_scaling'] else None\n",
    "    },\n",
    "    'engineSize': {\n",
    "        'missing_strategy': 'median',\n",
    "        'transform_func': normalize_engine if CONFIG['normalize_engine'] else None,\n",
    "        'scaling_method': 'robust' if CONFIG['feature_scaling'] else None\n",
    "    },\n",
    "    'tax': {\n",
    "        'transform_func': lambda x: np.abs(x),\n",
    "        'missing_strategy': 'median',\n",
    "        'scaling_method': 'standard' if CONFIG['feature_scaling'] else None\n",
    "    },\n",
    "    'mpg': {\n",
    "        'transform_func': lambda x: np.abs(x),\n",
    "        'missing_strategy': 'median',\n",
    "        'outlier_method': 'iqr' if CONFIG['outlier_removal'] else None,\n",
    "        'scaling_method': 'standard' if CONFIG['feature_scaling'] else None\n",
    "    },\n",
    "    'paintQuality%': {\n",
    "        'missing_strategy': 'median',\n",
    "        'transform_func': normalize_paint if CONFIG['normalize_paint'] else None,\n",
    "        'scaling_method': 'minmax' if CONFIG['feature_scaling'] else None\n",
    "    },\n",
    "    'previousOwners': {\n",
    "        'missing_strategy': 'median',\n",
    "        'transform_func': lambda x: np.log1p(np.abs(np.floor(x))),\n",
    "        'scaling_method': 'standard' if CONFIG['feature_scaling'] else None\n",
    "    },\n",
    "    'hasDamage': {\n",
    "        'missing_strategy': 1,\n",
    "        'scaling_method': None\n",
    "    },\n",
    "    'clean_make': {\n",
    "        'missing_strategy': 'mode',\n",
    "        'encoding_method': 'mean'  # use mean encoding for make in any case, regardless of CONFIG because of high cardinality\n",
    "    },\n",
    "    'clean_model': {\n",
    "        'missing_strategy': 'mode',\n",
    "        'encoding_method': 'mean', # use mean encoding for models in any case, regardless of CONFIG because of high cardinality\n",
    "    },\n",
    "    'transmission': {\n",
    "        'missing_strategy': 'mode',\n",
    "        'encoding_method': CONFIG['encoding_method'],\n",
    "\n",
    "    },\n",
    "    'fuelType': {\n",
    "        'missing_strategy': 'mode',\n",
    "        'encoding_method': CONFIG['encoding_method'],\n",
    "    }\n",
    "}"
   ]
  },
  {
   "cell_type": "code",
   "execution_count": 27,
   "id": "c18cdca2",
   "metadata": {},
   "outputs": [
    {
     "name": "stdout",
     "output_type": "stream",
     "text": [
      "\n",
      " DATA SPLIT COMPLETE!\n",
      "   data_train: (12764, 14)\n",
      "   data_model_sel: (2431, 14)\n",
      "   data_val: (60778, 14)\n",
      "\n",
      " Preprocessing complete.\n",
      "   X_train: (12764, 19)\n",
      "   X_feature_sel: (2431, 19)\n",
      "   X_val: (60778, 19)\n",
      "   X_test: (75973, 19)\n",
      "   test_data_processed: (32567, 19)\n"
     ]
    }
   ],
   "source": [
    "data_temp = train_data.sample(frac=CONFIG['test_size'], random_state=CONFIG['random_state'])\n",
    "data_val = train_data.drop(data_temp.index)\n",
    "data_model_sel = data_temp.sample(frac=CONFIG['feature_selection_size'] , random_state=CONFIG['random_state'])\n",
    "data_train = data_temp.drop(data_model_sel.index)\n",
    "\n",
    "print(f\"\\n DATA SPLIT COMPLETE!\")\n",
    "print(f\"   data_train: {data_train.shape}\")\n",
    "print(f\"   data_model_sel: {data_model_sel.shape}\")\n",
    "print(f\"   data_val: {data_val.shape}\")\n",
    "\n",
    "# fit_transform training data and transform feature selection and validation data\n",
    "preprocessor = DataPreprocessor(target_column=CONFIG['target_column'])\n",
    "\n",
    "\n",
    "for feature, feature_config in feature_configs.items():\n",
    "    if feature in data_train.columns:\n",
    "        preprocessor.add_feature_pipeline(feature, **feature_config)  \n",
    "        \n",
    "# we are already transformun the partitions becuse during k-fold CV we are going to fit_transform again and we don't want to lose the transformations for the final model validation\n",
    "X_train, y_train = preprocessor.fit_transform(data_train)\n",
    "X_feature_sel, y_model_sel = preprocessor.transform(data_model_sel)\n",
    "X_val, y_val = preprocessor.transform(data_val)\n",
    "X_test, y_test = preprocessor.transform(train_data)\n",
    "test_data_processed, _ = preprocessor.transform(test_data)\n",
    "del data_temp  # free memory\n",
    "print(\"\\n Preprocessing complete.\")\n",
    "print(f\"   X_train: {X_train.shape}\")\n",
    "print(f\"   X_feature_sel: {X_feature_sel.shape}\")\n",
    "print(f\"   X_val: {X_val.shape}\")\n",
    "print(f\"   X_test: {X_test.shape}\")\n",
    "print(f\"   test_data_processed: {test_data_processed.shape}\")\n"
   ]
  },
  {
   "cell_type": "markdown",
   "id": "6e00552f",
   "metadata": {},
   "source": [
    "# Data is Clean — Start Modeling\n",
    "---\n",
    "\n",
    "**Instantiated `DataPreprocessor` Object**\n",
    "\n",
    "The reason we don't clean the dataset and save it as a new CSV file is to keep track of the preprocessing steps and be able to reproduce them on new data (e.g., test set, future data, cross-validation folds, etc.). This approach avoids data leakage, as encoding and scaling should be fitted only on the training data and then applied to the validation/test data. A fitted preprocessor can be saved and loaded later for consistent transformations.\n",
    "\n",
    "---\n",
    "\n",
    "#### Data Partitions\n",
    "\n",
    "- **Feature Selection Data**: Allocated 16% of the original training set for feature selection procedures.\n",
    "- **Train Data**: Allocated 60% of the original training set for fitting the preprocessor and training models.\n",
    "- **Validation Data**: Allocated 24% of the original training set for hyperparameter tuning and model selection.\n"
   ]
  },
  {
   "cell_type": "markdown",
   "id": "aa9d2960",
   "metadata": {},
   "source": [
    "## Feature Selection\n",
    "This section documents the engineered features we create and the approach used to select a compact, informative feature set for modeling.\n",
    "\n",
    "Selection approach (short)\n",
    "- Categorical selection: test mutual information, ANOVA, RF importance, and RFE variants, then compile an acceptance score.\n",
    "- Numerical selection: VIF (multicollinearity), spearman redundancy/relevance, RFE, Lasso/Ridge ranking.\n",
    "- We run selection on a dedicated holdout (`X_model_sel`, `y_model_sel`) to avoid leakages and to speed iteration.\n",
    "- Final chosen features are the union of 'Keep' decisions from categorical and numerical selectors.\n"
   ]
  },
  {
   "cell_type": "code",
   "execution_count": 8,
   "id": "4685cb1c",
   "metadata": {},
   "outputs": [],
   "source": [
    "from utils.feature_selection.feature_selection import NumericalFeatureSelector, CategoricalFeatureSelector"
   ]
  },
  {
   "cell_type": "markdown",
   "id": "51128269",
   "metadata": {},
   "source": [
    "### Boolean Feature Selection"
   ]
  },
  {
   "cell_type": "code",
   "execution_count": 9,
   "id": "ca9c0bda",
   "metadata": {},
   "outputs": [
    {
     "data": {
      "application/vnd.microsoft.datawrangler.viewer.v0+json": {
       "columns": [
        {
         "name": "index",
         "rawType": "int64",
         "type": "integer"
        },
        {
         "name": "Feature",
         "rawType": "object",
         "type": "string"
        },
        {
         "name": "Low_Correlation",
         "rawType": "bool",
         "type": "boolean"
        },
        {
         "name": "High_MI",
         "rawType": "bool",
         "type": "boolean"
        },
        {
         "name": "ANOVA_Sig",
         "rawType": "bool",
         "type": "boolean"
        },
        {
         "name": "RF_Important",
         "rawType": "bool",
         "type": "boolean"
        },
        {
         "name": "RFE_DecisionTree",
         "rawType": "bool",
         "type": "boolean"
        },
        {
         "name": "RFE_RandomForest",
         "rawType": "bool",
         "type": "boolean"
        },
        {
         "name": "RFE_LR_MinMax",
         "rawType": "bool",
         "type": "boolean"
        },
        {
         "name": "RFE_LR_Standard",
         "rawType": "bool",
         "type": "boolean"
        },
        {
         "name": "RFE_LR_Robust",
         "rawType": "bool",
         "type": "boolean"
        },
        {
         "name": "Lasso_MinMax",
         "rawType": "bool",
         "type": "boolean"
        },
        {
         "name": "Lasso_Standard",
         "rawType": "bool",
         "type": "boolean"
        },
        {
         "name": "Lasso_Robust",
         "rawType": "bool",
         "type": "boolean"
        },
        {
         "name": "Total_Accepted",
         "rawType": "int64",
         "type": "integer"
        },
        {
         "name": "Accept_Rate",
         "rawType": "float64",
         "type": "float"
        },
        {
         "name": "Final_Decision",
         "rawType": "object",
         "type": "string"
        }
       ],
       "ref": "4426bf1b-a83f-4274-be56-1c9196aeb495",
       "rows": [
        [
         "0",
         "hasDamage",
         "False",
         "False",
         "False",
         "True",
         "False",
         "False",
         "False",
         "False",
         "False",
         "False",
         "False",
         "False",
         "1",
         "0.08333333333333333",
         "Drop"
        ],
        [
         "1",
         "transmission_Automatic",
         "True",
         "True",
         "True",
         "False",
         "False",
         "False",
         "True",
         "True",
         "True",
         "True",
         "False",
         "True",
         "8",
         "0.6666666666666666",
         "Keep"
        ],
        [
         "2",
         "transmission_Manual",
         "True",
         "True",
         "True",
         "True",
         "True",
         "True",
         "False",
         "True",
         "False",
         "True",
         "True",
         "True",
         "10",
         "0.8333333333333334",
         "Keep"
        ],
        [
         "3",
         "transmission_Other",
         "True",
         "False",
         "False",
         "True",
         "True",
         "True",
         "False",
         "False",
         "False",
         "True",
         "True",
         "True",
         "7",
         "0.5833333333333334",
         "Drop"
        ],
        [
         "4",
         "transmission_Semi-Auto",
         "True",
         "True",
         "True",
         "True",
         "True",
         "True",
         "True",
         "True",
         "True",
         "True",
         "True",
         "True",
         "12",
         "1.0",
         "Keep"
        ],
        [
         "5",
         "fuelType_Diesel",
         "True",
         "True",
         "True",
         "True",
         "False",
         "False",
         "True",
         "True",
         "True",
         "True",
         "True",
         "True",
         "10",
         "0.8333333333333334",
         "Keep"
        ],
        [
         "6",
         "fuelType_Hybrid",
         "True",
         "False",
         "True",
         "False",
         "False",
         "False",
         "False",
         "False",
         "False",
         "False",
         "False",
         "False",
         "2",
         "0.16666666666666666",
         "Drop"
        ],
        [
         "7",
         "fuelType_Other",
         "True",
         "False",
         "False",
         "False",
         "False",
         "False",
         "True",
         "False",
         "True",
         "False",
         "True",
         "False",
         "4",
         "0.3333333333333333",
         "Drop"
        ],
        [
         "8",
         "fuelType_Petrol",
         "False",
         "True",
         "True",
         "True",
         "True",
         "True",
         "False",
         "False",
         "False",
         "True",
         "True",
         "True",
         "8",
         "0.6666666666666666",
         "Keep"
        ]
       ],
       "shape": {
        "columns": 16,
        "rows": 9
       }
      },
      "text/html": [
       "<div>\n",
       "<style scoped>\n",
       "    .dataframe tbody tr th:only-of-type {\n",
       "        vertical-align: middle;\n",
       "    }\n",
       "\n",
       "    .dataframe tbody tr th {\n",
       "        vertical-align: top;\n",
       "    }\n",
       "\n",
       "    .dataframe thead th {\n",
       "        text-align: right;\n",
       "    }\n",
       "</style>\n",
       "<table border=\"1\" class=\"dataframe\">\n",
       "  <thead>\n",
       "    <tr style=\"text-align: right;\">\n",
       "      <th></th>\n",
       "      <th>Feature</th>\n",
       "      <th>Low_Correlation</th>\n",
       "      <th>High_MI</th>\n",
       "      <th>ANOVA_Sig</th>\n",
       "      <th>RF_Important</th>\n",
       "      <th>RFE_DecisionTree</th>\n",
       "      <th>RFE_RandomForest</th>\n",
       "      <th>RFE_LR_MinMax</th>\n",
       "      <th>RFE_LR_Standard</th>\n",
       "      <th>RFE_LR_Robust</th>\n",
       "      <th>Lasso_MinMax</th>\n",
       "      <th>Lasso_Standard</th>\n",
       "      <th>Lasso_Robust</th>\n",
       "      <th>Total_Accepted</th>\n",
       "      <th>Accept_Rate</th>\n",
       "      <th>Final_Decision</th>\n",
       "    </tr>\n",
       "  </thead>\n",
       "  <tbody>\n",
       "    <tr>\n",
       "      <th>0</th>\n",
       "      <td>hasDamage</td>\n",
       "      <td>False</td>\n",
       "      <td>False</td>\n",
       "      <td>False</td>\n",
       "      <td>True</td>\n",
       "      <td>False</td>\n",
       "      <td>False</td>\n",
       "      <td>False</td>\n",
       "      <td>False</td>\n",
       "      <td>False</td>\n",
       "      <td>False</td>\n",
       "      <td>False</td>\n",
       "      <td>False</td>\n",
       "      <td>1</td>\n",
       "      <td>0.083333</td>\n",
       "      <td>Drop</td>\n",
       "    </tr>\n",
       "    <tr>\n",
       "      <th>1</th>\n",
       "      <td>transmission_Automatic</td>\n",
       "      <td>True</td>\n",
       "      <td>True</td>\n",
       "      <td>True</td>\n",
       "      <td>False</td>\n",
       "      <td>False</td>\n",
       "      <td>False</td>\n",
       "      <td>True</td>\n",
       "      <td>True</td>\n",
       "      <td>True</td>\n",
       "      <td>True</td>\n",
       "      <td>False</td>\n",
       "      <td>True</td>\n",
       "      <td>8</td>\n",
       "      <td>0.666667</td>\n",
       "      <td>Keep</td>\n",
       "    </tr>\n",
       "    <tr>\n",
       "      <th>2</th>\n",
       "      <td>transmission_Manual</td>\n",
       "      <td>True</td>\n",
       "      <td>True</td>\n",
       "      <td>True</td>\n",
       "      <td>True</td>\n",
       "      <td>True</td>\n",
       "      <td>True</td>\n",
       "      <td>False</td>\n",
       "      <td>True</td>\n",
       "      <td>False</td>\n",
       "      <td>True</td>\n",
       "      <td>True</td>\n",
       "      <td>True</td>\n",
       "      <td>10</td>\n",
       "      <td>0.833333</td>\n",
       "      <td>Keep</td>\n",
       "    </tr>\n",
       "    <tr>\n",
       "      <th>3</th>\n",
       "      <td>transmission_Other</td>\n",
       "      <td>True</td>\n",
       "      <td>False</td>\n",
       "      <td>False</td>\n",
       "      <td>True</td>\n",
       "      <td>True</td>\n",
       "      <td>True</td>\n",
       "      <td>False</td>\n",
       "      <td>False</td>\n",
       "      <td>False</td>\n",
       "      <td>True</td>\n",
       "      <td>True</td>\n",
       "      <td>True</td>\n",
       "      <td>7</td>\n",
       "      <td>0.583333</td>\n",
       "      <td>Drop</td>\n",
       "    </tr>\n",
       "    <tr>\n",
       "      <th>4</th>\n",
       "      <td>transmission_Semi-Auto</td>\n",
       "      <td>True</td>\n",
       "      <td>True</td>\n",
       "      <td>True</td>\n",
       "      <td>True</td>\n",
       "      <td>True</td>\n",
       "      <td>True</td>\n",
       "      <td>True</td>\n",
       "      <td>True</td>\n",
       "      <td>True</td>\n",
       "      <td>True</td>\n",
       "      <td>True</td>\n",
       "      <td>True</td>\n",
       "      <td>12</td>\n",
       "      <td>1.000000</td>\n",
       "      <td>Keep</td>\n",
       "    </tr>\n",
       "    <tr>\n",
       "      <th>5</th>\n",
       "      <td>fuelType_Diesel</td>\n",
       "      <td>True</td>\n",
       "      <td>True</td>\n",
       "      <td>True</td>\n",
       "      <td>True</td>\n",
       "      <td>False</td>\n",
       "      <td>False</td>\n",
       "      <td>True</td>\n",
       "      <td>True</td>\n",
       "      <td>True</td>\n",
       "      <td>True</td>\n",
       "      <td>True</td>\n",
       "      <td>True</td>\n",
       "      <td>10</td>\n",
       "      <td>0.833333</td>\n",
       "      <td>Keep</td>\n",
       "    </tr>\n",
       "    <tr>\n",
       "      <th>6</th>\n",
       "      <td>fuelType_Hybrid</td>\n",
       "      <td>True</td>\n",
       "      <td>False</td>\n",
       "      <td>True</td>\n",
       "      <td>False</td>\n",
       "      <td>False</td>\n",
       "      <td>False</td>\n",
       "      <td>False</td>\n",
       "      <td>False</td>\n",
       "      <td>False</td>\n",
       "      <td>False</td>\n",
       "      <td>False</td>\n",
       "      <td>False</td>\n",
       "      <td>2</td>\n",
       "      <td>0.166667</td>\n",
       "      <td>Drop</td>\n",
       "    </tr>\n",
       "    <tr>\n",
       "      <th>7</th>\n",
       "      <td>fuelType_Other</td>\n",
       "      <td>True</td>\n",
       "      <td>False</td>\n",
       "      <td>False</td>\n",
       "      <td>False</td>\n",
       "      <td>False</td>\n",
       "      <td>False</td>\n",
       "      <td>True</td>\n",
       "      <td>False</td>\n",
       "      <td>True</td>\n",
       "      <td>False</td>\n",
       "      <td>True</td>\n",
       "      <td>False</td>\n",
       "      <td>4</td>\n",
       "      <td>0.333333</td>\n",
       "      <td>Drop</td>\n",
       "    </tr>\n",
       "    <tr>\n",
       "      <th>8</th>\n",
       "      <td>fuelType_Petrol</td>\n",
       "      <td>False</td>\n",
       "      <td>True</td>\n",
       "      <td>True</td>\n",
       "      <td>True</td>\n",
       "      <td>True</td>\n",
       "      <td>True</td>\n",
       "      <td>False</td>\n",
       "      <td>False</td>\n",
       "      <td>False</td>\n",
       "      <td>True</td>\n",
       "      <td>True</td>\n",
       "      <td>True</td>\n",
       "      <td>8</td>\n",
       "      <td>0.666667</td>\n",
       "      <td>Keep</td>\n",
       "    </tr>\n",
       "  </tbody>\n",
       "</table>\n",
       "</div>"
      ],
      "text/plain": [
       "                  Feature  Low_Correlation  High_MI  ANOVA_Sig  RF_Important  \\\n",
       "0               hasDamage            False    False      False          True   \n",
       "1  transmission_Automatic             True     True       True         False   \n",
       "2     transmission_Manual             True     True       True          True   \n",
       "3      transmission_Other             True    False      False          True   \n",
       "4  transmission_Semi-Auto             True     True       True          True   \n",
       "5         fuelType_Diesel             True     True       True          True   \n",
       "6         fuelType_Hybrid             True    False       True         False   \n",
       "7          fuelType_Other             True    False      False         False   \n",
       "8         fuelType_Petrol            False     True       True          True   \n",
       "\n",
       "   RFE_DecisionTree  RFE_RandomForest  RFE_LR_MinMax  RFE_LR_Standard  \\\n",
       "0             False             False          False            False   \n",
       "1             False             False           True             True   \n",
       "2              True              True          False             True   \n",
       "3              True              True          False            False   \n",
       "4              True              True           True             True   \n",
       "5             False             False           True             True   \n",
       "6             False             False          False            False   \n",
       "7             False             False           True            False   \n",
       "8              True              True          False            False   \n",
       "\n",
       "   RFE_LR_Robust  Lasso_MinMax  Lasso_Standard  Lasso_Robust  Total_Accepted  \\\n",
       "0          False         False           False         False               1   \n",
       "1           True          True           False          True               8   \n",
       "2          False          True            True          True              10   \n",
       "3          False          True            True          True               7   \n",
       "4           True          True            True          True              12   \n",
       "5           True          True            True          True              10   \n",
       "6          False         False           False         False               2   \n",
       "7           True         False            True         False               4   \n",
       "8          False          True            True          True               8   \n",
       "\n",
       "   Accept_Rate Final_Decision  \n",
       "0     0.083333           Drop  \n",
       "1     0.666667           Keep  \n",
       "2     0.833333           Keep  \n",
       "3     0.583333           Drop  \n",
       "4     1.000000           Keep  \n",
       "5     0.833333           Keep  \n",
       "6     0.166667           Drop  \n",
       "7     0.333333           Drop  \n",
       "8     0.666667           Keep  "
      ]
     },
     "metadata": {},
     "output_type": "display_data"
    }
   ],
   "source": [
    "# slect the colums with cardinality 2\n",
    "boolean_features = X_feature_sel.columns[X_train.nunique() == 2].tolist()\n",
    "\n",
    "\n",
    "# Categorical selector example (boolean_features should be defined earlier)\n",
    "cat_selector = CategoricalFeatureSelector(\n",
    "    X_train=X_feature_sel,\n",
    "    y_train=y_model_sel,\n",
    "    categorical_encoded_features=boolean_features,\n",
    "    corr_threshold=0.8,\n",
    "    importance_threshold=0.01\n",
    ")\n",
    "\n",
    "final_results_cat = cat_selector.compile_results()\n",
    "display(final_results_cat.head(10))"
   ]
  },
  {
   "cell_type": "markdown",
   "id": "9a955b33",
   "metadata": {},
   "source": [
    "### Numerical Feature Selection"
   ]
  },
  {
   "cell_type": "code",
   "execution_count": 10,
   "id": "9a15fcb0",
   "metadata": {},
   "outputs": [
    {
     "data": {
      "application/vnd.microsoft.datawrangler.viewer.v0+json": {
       "columns": [
        {
         "name": "index",
         "rawType": "int64",
         "type": "integer"
        },
        {
         "name": "Feature",
         "rawType": "object",
         "type": "string"
        },
        {
         "name": "VIF",
         "rawType": "float64",
         "type": "float"
        },
        {
         "name": "Accepted_x",
         "rawType": "bool",
         "type": "boolean"
        },
        {
         "name": "Max_SpearmanCorr",
         "rawType": "float64",
         "type": "float"
        },
        {
         "name": "Accepted_y",
         "rawType": "bool",
         "type": "boolean"
        },
        {
         "name": "Spearman_TargetCorr",
         "rawType": "float64",
         "type": "float"
        },
        {
         "name": "Accepted",
         "rawType": "bool",
         "type": "boolean"
        },
        {
         "name": "RFE_DecisionTree",
         "rawType": "bool",
         "type": "boolean"
        },
        {
         "name": "RFE_RandomForest",
         "rawType": "bool",
         "type": "boolean"
        },
        {
         "name": "RFE_LR_MinMax",
         "rawType": "bool",
         "type": "boolean"
        },
        {
         "name": "RFE_LR_Standard",
         "rawType": "bool",
         "type": "boolean"
        },
        {
         "name": "RFE_LR_Robust",
         "rawType": "bool",
         "type": "boolean"
        },
        {
         "name": "Ridge_MinMax",
         "rawType": "bool",
         "type": "boolean"
        },
        {
         "name": "Ridge_Standard",
         "rawType": "bool",
         "type": "boolean"
        },
        {
         "name": "Ridge_Robust",
         "rawType": "bool",
         "type": "boolean"
        },
        {
         "name": "Lasso_MinMax",
         "rawType": "bool",
         "type": "boolean"
        },
        {
         "name": "Lasso_Standard",
         "rawType": "bool",
         "type": "boolean"
        },
        {
         "name": "Lasso_Robust",
         "rawType": "bool",
         "type": "boolean"
        },
        {
         "name": "Total_Accepted",
         "rawType": "int64",
         "type": "integer"
        },
        {
         "name": "Final_Decision",
         "rawType": "object",
         "type": "string"
        }
       ],
       "ref": "e49ee024-3858-4b6e-9595-65ee4984c015",
       "rows": [
        [
         "0",
         "carID",
         "3.766147804402926",
         "False",
         null,
         "False",
         "0.2075605931926796",
         "True",
         "False",
         "False",
         "False",
         "False",
         "False",
         "True",
         "True",
         "True",
         "True",
         "True",
         "True",
         "7",
         "Drop"
        ],
        [
         "1",
         "year",
         "11.196247741306992",
         "False",
         "0.020018737077304498",
         "True",
         "0.5991372288458444",
         "True",
         "True",
         "True",
         "True",
         "True",
         "True",
         "True",
         "True",
         "True",
         "True",
         "True",
         "True",
         "13",
         "Keep"
        ],
        [
         "2",
         "mileage",
         "1.4778076431451779",
         "False",
         "0.7857056215991159",
         "True",
         "0.5115605515529349",
         "True",
         "True",
         "True",
         "True",
         "True",
         "True",
         "True",
         "True",
         "True",
         "True",
         "True",
         "True",
         "13",
         "Keep"
        ],
        [
         "3",
         "tax",
         "1.4071483585338302",
         "False",
         "0.3218763773097658",
         "True",
         "0.2847255790111339",
         "True",
         "False",
         "False",
         "False",
         "False",
         "False",
         "True",
         "True",
         "True",
         "True",
         "True",
         "True",
         "8",
         "Keep"
        ],
        [
         "4",
         "mpg",
         "1.5166846439354968",
         "False",
         "0.5378805302771904",
         "True",
         "0.3616404272219898",
         "True",
         "True",
         "True",
         "True",
         "True",
         "True",
         "True",
         "True",
         "True",
         "True",
         "True",
         "True",
         "13",
         "Keep"
        ],
        [
         "5",
         "engineSize",
         "1.5278194367496418",
         "False",
         "0.1815415788911356",
         "True",
         "0.5390633319794068",
         "True",
         "True",
         "True",
         "True",
         "True",
         "True",
         "True",
         "True",
         "True",
         "True",
         "True",
         "True",
         "13",
         "Keep"
        ],
        [
         "6",
         "paintQuality%",
         "8.492747254279617",
         "False",
         "0.029245895596006165",
         "True",
         "0.02413809904574259",
         "False",
         "False",
         "False",
         "False",
         "False",
         "False",
         "True",
         "True",
         "True",
         "True",
         "False",
         "False",
         "5",
         "Drop"
        ],
        [
         "7",
         "previousOwners",
         "1.0048612982104066",
         "False",
         "0.051005435587995064",
         "True",
         "0.013219729744535419",
         "False",
         "False",
         "False",
         "False",
         "False",
         "False",
         "True",
         "True",
         "True",
         "True",
         "False",
         "False",
         "5",
         "Drop"
        ],
        [
         "8",
         "clean_make",
         "21.206873952337773",
         "False",
         "0.5181880636125884",
         "True",
         "0.5661632259610014",
         "True",
         "False",
         "False",
         "False",
         "False",
         "False",
         "True",
         "True",
         "True",
         "True",
         "True",
         "True",
         "8",
         "Keep"
        ],
        [
         "9",
         "clean_model",
         "16.685975798682033",
         "False",
         "0.7518396000489148",
         "True",
         "0.7469392723923269",
         "True",
         "True",
         "True",
         "True",
         "True",
         "True",
         "True",
         "True",
         "True",
         "True",
         "True",
         "True",
         "13",
         "Keep"
        ]
       ],
       "shape": {
        "columns": 20,
        "rows": 10
       }
      },
      "text/html": [
       "<div>\n",
       "<style scoped>\n",
       "    .dataframe tbody tr th:only-of-type {\n",
       "        vertical-align: middle;\n",
       "    }\n",
       "\n",
       "    .dataframe tbody tr th {\n",
       "        vertical-align: top;\n",
       "    }\n",
       "\n",
       "    .dataframe thead th {\n",
       "        text-align: right;\n",
       "    }\n",
       "</style>\n",
       "<table border=\"1\" class=\"dataframe\">\n",
       "  <thead>\n",
       "    <tr style=\"text-align: right;\">\n",
       "      <th></th>\n",
       "      <th>Feature</th>\n",
       "      <th>VIF</th>\n",
       "      <th>Accepted_x</th>\n",
       "      <th>Max_SpearmanCorr</th>\n",
       "      <th>Accepted_y</th>\n",
       "      <th>Spearman_TargetCorr</th>\n",
       "      <th>Accepted</th>\n",
       "      <th>RFE_DecisionTree</th>\n",
       "      <th>RFE_RandomForest</th>\n",
       "      <th>RFE_LR_MinMax</th>\n",
       "      <th>RFE_LR_Standard</th>\n",
       "      <th>RFE_LR_Robust</th>\n",
       "      <th>Ridge_MinMax</th>\n",
       "      <th>Ridge_Standard</th>\n",
       "      <th>Ridge_Robust</th>\n",
       "      <th>Lasso_MinMax</th>\n",
       "      <th>Lasso_Standard</th>\n",
       "      <th>Lasso_Robust</th>\n",
       "      <th>Total_Accepted</th>\n",
       "      <th>Final_Decision</th>\n",
       "    </tr>\n",
       "  </thead>\n",
       "  <tbody>\n",
       "    <tr>\n",
       "      <th>0</th>\n",
       "      <td>carID</td>\n",
       "      <td>3.766148</td>\n",
       "      <td>False</td>\n",
       "      <td>NaN</td>\n",
       "      <td>False</td>\n",
       "      <td>0.207561</td>\n",
       "      <td>True</td>\n",
       "      <td>False</td>\n",
       "      <td>False</td>\n",
       "      <td>False</td>\n",
       "      <td>False</td>\n",
       "      <td>False</td>\n",
       "      <td>True</td>\n",
       "      <td>True</td>\n",
       "      <td>True</td>\n",
       "      <td>True</td>\n",
       "      <td>True</td>\n",
       "      <td>True</td>\n",
       "      <td>7</td>\n",
       "      <td>Drop</td>\n",
       "    </tr>\n",
       "    <tr>\n",
       "      <th>1</th>\n",
       "      <td>year</td>\n",
       "      <td>11.196248</td>\n",
       "      <td>False</td>\n",
       "      <td>0.020019</td>\n",
       "      <td>True</td>\n",
       "      <td>0.599137</td>\n",
       "      <td>True</td>\n",
       "      <td>True</td>\n",
       "      <td>True</td>\n",
       "      <td>True</td>\n",
       "      <td>True</td>\n",
       "      <td>True</td>\n",
       "      <td>True</td>\n",
       "      <td>True</td>\n",
       "      <td>True</td>\n",
       "      <td>True</td>\n",
       "      <td>True</td>\n",
       "      <td>True</td>\n",
       "      <td>13</td>\n",
       "      <td>Keep</td>\n",
       "    </tr>\n",
       "    <tr>\n",
       "      <th>2</th>\n",
       "      <td>mileage</td>\n",
       "      <td>1.477808</td>\n",
       "      <td>False</td>\n",
       "      <td>0.785706</td>\n",
       "      <td>True</td>\n",
       "      <td>0.511561</td>\n",
       "      <td>True</td>\n",
       "      <td>True</td>\n",
       "      <td>True</td>\n",
       "      <td>True</td>\n",
       "      <td>True</td>\n",
       "      <td>True</td>\n",
       "      <td>True</td>\n",
       "      <td>True</td>\n",
       "      <td>True</td>\n",
       "      <td>True</td>\n",
       "      <td>True</td>\n",
       "      <td>True</td>\n",
       "      <td>13</td>\n",
       "      <td>Keep</td>\n",
       "    </tr>\n",
       "    <tr>\n",
       "      <th>3</th>\n",
       "      <td>tax</td>\n",
       "      <td>1.407148</td>\n",
       "      <td>False</td>\n",
       "      <td>0.321876</td>\n",
       "      <td>True</td>\n",
       "      <td>0.284726</td>\n",
       "      <td>True</td>\n",
       "      <td>False</td>\n",
       "      <td>False</td>\n",
       "      <td>False</td>\n",
       "      <td>False</td>\n",
       "      <td>False</td>\n",
       "      <td>True</td>\n",
       "      <td>True</td>\n",
       "      <td>True</td>\n",
       "      <td>True</td>\n",
       "      <td>True</td>\n",
       "      <td>True</td>\n",
       "      <td>8</td>\n",
       "      <td>Keep</td>\n",
       "    </tr>\n",
       "    <tr>\n",
       "      <th>4</th>\n",
       "      <td>mpg</td>\n",
       "      <td>1.516685</td>\n",
       "      <td>False</td>\n",
       "      <td>0.537881</td>\n",
       "      <td>True</td>\n",
       "      <td>0.361640</td>\n",
       "      <td>True</td>\n",
       "      <td>True</td>\n",
       "      <td>True</td>\n",
       "      <td>True</td>\n",
       "      <td>True</td>\n",
       "      <td>True</td>\n",
       "      <td>True</td>\n",
       "      <td>True</td>\n",
       "      <td>True</td>\n",
       "      <td>True</td>\n",
       "      <td>True</td>\n",
       "      <td>True</td>\n",
       "      <td>13</td>\n",
       "      <td>Keep</td>\n",
       "    </tr>\n",
       "    <tr>\n",
       "      <th>5</th>\n",
       "      <td>engineSize</td>\n",
       "      <td>1.527819</td>\n",
       "      <td>False</td>\n",
       "      <td>0.181542</td>\n",
       "      <td>True</td>\n",
       "      <td>0.539063</td>\n",
       "      <td>True</td>\n",
       "      <td>True</td>\n",
       "      <td>True</td>\n",
       "      <td>True</td>\n",
       "      <td>True</td>\n",
       "      <td>True</td>\n",
       "      <td>True</td>\n",
       "      <td>True</td>\n",
       "      <td>True</td>\n",
       "      <td>True</td>\n",
       "      <td>True</td>\n",
       "      <td>True</td>\n",
       "      <td>13</td>\n",
       "      <td>Keep</td>\n",
       "    </tr>\n",
       "    <tr>\n",
       "      <th>6</th>\n",
       "      <td>paintQuality%</td>\n",
       "      <td>8.492747</td>\n",
       "      <td>False</td>\n",
       "      <td>0.029246</td>\n",
       "      <td>True</td>\n",
       "      <td>0.024138</td>\n",
       "      <td>False</td>\n",
       "      <td>False</td>\n",
       "      <td>False</td>\n",
       "      <td>False</td>\n",
       "      <td>False</td>\n",
       "      <td>False</td>\n",
       "      <td>True</td>\n",
       "      <td>True</td>\n",
       "      <td>True</td>\n",
       "      <td>True</td>\n",
       "      <td>False</td>\n",
       "      <td>False</td>\n",
       "      <td>5</td>\n",
       "      <td>Drop</td>\n",
       "    </tr>\n",
       "    <tr>\n",
       "      <th>7</th>\n",
       "      <td>previousOwners</td>\n",
       "      <td>1.004861</td>\n",
       "      <td>False</td>\n",
       "      <td>0.051005</td>\n",
       "      <td>True</td>\n",
       "      <td>0.013220</td>\n",
       "      <td>False</td>\n",
       "      <td>False</td>\n",
       "      <td>False</td>\n",
       "      <td>False</td>\n",
       "      <td>False</td>\n",
       "      <td>False</td>\n",
       "      <td>True</td>\n",
       "      <td>True</td>\n",
       "      <td>True</td>\n",
       "      <td>True</td>\n",
       "      <td>False</td>\n",
       "      <td>False</td>\n",
       "      <td>5</td>\n",
       "      <td>Drop</td>\n",
       "    </tr>\n",
       "    <tr>\n",
       "      <th>8</th>\n",
       "      <td>clean_make</td>\n",
       "      <td>21.206874</td>\n",
       "      <td>False</td>\n",
       "      <td>0.518188</td>\n",
       "      <td>True</td>\n",
       "      <td>0.566163</td>\n",
       "      <td>True</td>\n",
       "      <td>False</td>\n",
       "      <td>False</td>\n",
       "      <td>False</td>\n",
       "      <td>False</td>\n",
       "      <td>False</td>\n",
       "      <td>True</td>\n",
       "      <td>True</td>\n",
       "      <td>True</td>\n",
       "      <td>True</td>\n",
       "      <td>True</td>\n",
       "      <td>True</td>\n",
       "      <td>8</td>\n",
       "      <td>Keep</td>\n",
       "    </tr>\n",
       "    <tr>\n",
       "      <th>9</th>\n",
       "      <td>clean_model</td>\n",
       "      <td>16.685976</td>\n",
       "      <td>False</td>\n",
       "      <td>0.751840</td>\n",
       "      <td>True</td>\n",
       "      <td>0.746939</td>\n",
       "      <td>True</td>\n",
       "      <td>True</td>\n",
       "      <td>True</td>\n",
       "      <td>True</td>\n",
       "      <td>True</td>\n",
       "      <td>True</td>\n",
       "      <td>True</td>\n",
       "      <td>True</td>\n",
       "      <td>True</td>\n",
       "      <td>True</td>\n",
       "      <td>True</td>\n",
       "      <td>True</td>\n",
       "      <td>13</td>\n",
       "      <td>Keep</td>\n",
       "    </tr>\n",
       "  </tbody>\n",
       "</table>\n",
       "</div>"
      ],
      "text/plain": [
       "          Feature        VIF  Accepted_x  Max_SpearmanCorr  Accepted_y  \\\n",
       "0           carID   3.766148       False               NaN       False   \n",
       "1            year  11.196248       False          0.020019        True   \n",
       "2         mileage   1.477808       False          0.785706        True   \n",
       "3             tax   1.407148       False          0.321876        True   \n",
       "4             mpg   1.516685       False          0.537881        True   \n",
       "5      engineSize   1.527819       False          0.181542        True   \n",
       "6   paintQuality%   8.492747       False          0.029246        True   \n",
       "7  previousOwners   1.004861       False          0.051005        True   \n",
       "8      clean_make  21.206874       False          0.518188        True   \n",
       "9     clean_model  16.685976       False          0.751840        True   \n",
       "\n",
       "   Spearman_TargetCorr  Accepted  RFE_DecisionTree  RFE_RandomForest  \\\n",
       "0             0.207561      True             False             False   \n",
       "1             0.599137      True              True              True   \n",
       "2             0.511561      True              True              True   \n",
       "3             0.284726      True             False             False   \n",
       "4             0.361640      True              True              True   \n",
       "5             0.539063      True              True              True   \n",
       "6             0.024138     False             False             False   \n",
       "7             0.013220     False             False             False   \n",
       "8             0.566163      True             False             False   \n",
       "9             0.746939      True              True              True   \n",
       "\n",
       "   RFE_LR_MinMax  RFE_LR_Standard  RFE_LR_Robust  Ridge_MinMax  \\\n",
       "0          False            False          False          True   \n",
       "1           True             True           True          True   \n",
       "2           True             True           True          True   \n",
       "3          False            False          False          True   \n",
       "4           True             True           True          True   \n",
       "5           True             True           True          True   \n",
       "6          False            False          False          True   \n",
       "7          False            False          False          True   \n",
       "8          False            False          False          True   \n",
       "9           True             True           True          True   \n",
       "\n",
       "   Ridge_Standard  Ridge_Robust  Lasso_MinMax  Lasso_Standard  Lasso_Robust  \\\n",
       "0            True          True          True            True          True   \n",
       "1            True          True          True            True          True   \n",
       "2            True          True          True            True          True   \n",
       "3            True          True          True            True          True   \n",
       "4            True          True          True            True          True   \n",
       "5            True          True          True            True          True   \n",
       "6            True          True          True           False         False   \n",
       "7            True          True          True           False         False   \n",
       "8            True          True          True            True          True   \n",
       "9            True          True          True            True          True   \n",
       "\n",
       "   Total_Accepted Final_Decision  \n",
       "0               7           Drop  \n",
       "1              13           Keep  \n",
       "2              13           Keep  \n",
       "3               8           Keep  \n",
       "4              13           Keep  \n",
       "5              13           Keep  \n",
       "6               5           Drop  \n",
       "7               5           Drop  \n",
       "8               8           Keep  \n",
       "9              13           Keep  "
      ]
     },
     "metadata": {},
     "output_type": "display_data"
    }
   ],
   "source": [
    "# Numerical selector example\n",
    "numerical_features = X_feature_sel.select_dtypes(include=[np.number]).columns.tolist()\n",
    "# remove boolean features from numerical set if present\n",
    "numerical_features = [f for f in numerical_features if f not in boolean_features]\n",
    "\n",
    "\n",
    "num_selector = NumericalFeatureSelector(\n",
    "    X_train=X_feature_sel,\n",
    "    y_train=y_model_sel,\n",
    "    numeric_features=numerical_features,\n",
    "    vif_threshold=0.8,\n",
    "    corr_threshold=0.8,\n",
    ")\n",
    "\n",
    "final_results_num = num_selector.compile_results()\n",
    "display(final_results_num.head(10))"
   ]
  },
  {
   "cell_type": "markdown",
   "id": "182b470f",
   "metadata": {},
   "source": [
    "### join final features"
   ]
  },
  {
   "cell_type": "code",
   "execution_count": 11,
   "id": "89c24d51",
   "metadata": {},
   "outputs": [
    {
     "data": {
      "text/plain": [
       "['year',\n",
       " 'mileage',\n",
       " 'tax',\n",
       " 'mpg',\n",
       " 'engineSize',\n",
       " 'clean_make',\n",
       " 'clean_model',\n",
       " 'transmission_Automatic',\n",
       " 'transmission_Manual',\n",
       " 'transmission_Semi-Auto',\n",
       " 'fuelType_Diesel',\n",
       " 'fuelType_Petrol']"
      ]
     },
     "execution_count": 11,
     "metadata": {},
     "output_type": "execute_result"
    }
   ],
   "source": [
    "selected_boolean_features = final_results_cat[final_results_cat['Final_Decision'] == 'Keep']['Feature'].tolist()\n",
    "selected_numerical_features = final_results_num[final_results_num['Final_Decision'] == 'Keep']['Feature'].tolist()\n",
    "\n",
    "\n",
    "choosen_features = selected_numerical_features + selected_boolean_features\n",
    "choosen_features"
   ]
  },
  {
   "cell_type": "markdown",
   "id": "de4f0993",
   "metadata": {},
   "source": [
    "## Hyperparameter Search\n",
    "This section runs a controlled hyperparameter search using the project's `run_hyperparameter_tuning` helper. Keep searches small while iterating (use `SHORT_SEARCH=True`) and scale up when you're ready to run the full grid.\n",
    "\n",
    "What this cell does\n",
    "- Build a parameter grid (dict of lists) for the chosen model.\n",
    "- Convert the grid to a list of parameter dictionaries that `run_hyperparameter_tuning` accepts.\n",
    "- Optionally sample a small subset of combinations for quick iteration.\n",
    "- Run the search and return a `results` DataFrame and `best_params` dictionary.\n",
    "\n",
    "Contract\n",
    "- Inputs: `train_data` (raw DataFrame), `preprocessor` (fitted or configured `DataPreprocessor`), `CONFIG` for CV settings.\n",
    "- Outputs: `results` (DataFrame), `best_params` (dict).\n",
    "- Notes: `run_hyperparameter_tuning` will internally transform data using the provided preprocessor."
   ]
  },
  {
   "cell_type": "code",
   "execution_count": 12,
   "id": "13697503",
   "metadata": {},
   "outputs": [],
   "source": [
    "from utils.model_selection.model_selection import run_hyperparameter_tuning\n",
    "from sklearn.metrics import mean_squared_error, r2_score, mean_absolute_error"
   ]
  },
  {
   "cell_type": "code",
   "execution_count": 13,
   "id": "999af0d0",
   "metadata": {},
   "outputs": [
    {
     "name": "stdout",
     "output_type": "stream",
     "text": [
      "Total SVR combinations: 27\n",
      "Starting hyperparameter tuning for SVR — this may take a while depending on combos and CV\n",
      "--- Starting RandomForestRegressor Hyperparameter Tuning (5x5 Folds) ---\n"
     ]
    },
    {
     "name": "stderr",
     "output_type": "stream",
     "text": [
      "Evaluating Folds: 100%|██████████| 25/25 [07:45<00:00, 18.63s/it]\n"
     ]
    },
    {
     "name": "stdout",
     "output_type": "stream",
     "text": [
      "Result: {'n_estimators': 50, 'max_depth': None, 'min_samples_split': 2}-> mean_absolute_error=1379.5044 ± 6.8489\n"
     ]
    },
    {
     "name": "stderr",
     "output_type": "stream",
     "text": [
      "Evaluating Folds: 100%|██████████| 25/25 [07:07<00:00, 17.09s/it]\n"
     ]
    },
    {
     "name": "stdout",
     "output_type": "stream",
     "text": [
      "Result: {'n_estimators': 50, 'max_depth': None, 'min_samples_split': 5}-> mean_absolute_error=1377.9118 ± 6.7081\n"
     ]
    },
    {
     "name": "stderr",
     "output_type": "stream",
     "text": [
      "Evaluating Folds: 100%|██████████| 25/25 [06:41<00:00, 16.04s/it]\n"
     ]
    },
    {
     "name": "stdout",
     "output_type": "stream",
     "text": [
      "Result: {'n_estimators': 50, 'max_depth': None, 'min_samples_split': 10}-> mean_absolute_error=1381.8478 ± 6.9496\n"
     ]
    },
    {
     "name": "stderr",
     "output_type": "stream",
     "text": [
      "Evaluating Folds: 100%|██████████| 25/25 [04:20<00:00, 10.44s/it]\n"
     ]
    },
    {
     "name": "stdout",
     "output_type": "stream",
     "text": [
      "Result: {'n_estimators': 50, 'max_depth': 10, 'min_samples_split': 2}-> mean_absolute_error=1651.5605 ± 6.3804\n"
     ]
    },
    {
     "name": "stderr",
     "output_type": "stream",
     "text": [
      "Evaluating Folds: 100%|██████████| 25/25 [04:20<00:00, 10.40s/it]\n"
     ]
    },
    {
     "name": "stdout",
     "output_type": "stream",
     "text": [
      "Result: {'n_estimators': 50, 'max_depth': 10, 'min_samples_split': 5}-> mean_absolute_error=1652.3728 ± 6.2482\n"
     ]
    },
    {
     "name": "stderr",
     "output_type": "stream",
     "text": [
      "Evaluating Folds: 100%|██████████| 25/25 [04:20<00:00, 10.42s/it]\n"
     ]
    },
    {
     "name": "stdout",
     "output_type": "stream",
     "text": [
      "Result: {'n_estimators': 50, 'max_depth': 10, 'min_samples_split': 10}-> mean_absolute_error=1653.9754 ± 6.6449\n"
     ]
    },
    {
     "name": "stderr",
     "output_type": "stream",
     "text": [
      "Evaluating Folds: 100%|██████████| 25/25 [07:06<00:00, 17.07s/it]\n"
     ]
    },
    {
     "name": "stdout",
     "output_type": "stream",
     "text": [
      "Result: {'n_estimators': 50, 'max_depth': 20, 'min_samples_split': 2}-> mean_absolute_error=1376.0208 ± 6.8474\n"
     ]
    },
    {
     "name": "stderr",
     "output_type": "stream",
     "text": [
      "Evaluating Folds: 100%|██████████| 25/25 [06:45<00:00, 16.20s/it]\n"
     ]
    },
    {
     "name": "stdout",
     "output_type": "stream",
     "text": [
      "Result: {'n_estimators': 50, 'max_depth': 20, 'min_samples_split': 5}-> mean_absolute_error=1376.8444 ± 6.4019\n"
     ]
    },
    {
     "name": "stderr",
     "output_type": "stream",
     "text": [
      "Evaluating Folds: 100%|██████████| 25/25 [06:26<00:00, 15.48s/it]\n"
     ]
    },
    {
     "name": "stdout",
     "output_type": "stream",
     "text": [
      "Result: {'n_estimators': 50, 'max_depth': 20, 'min_samples_split': 10}-> mean_absolute_error=1381.7140 ± 6.7494\n"
     ]
    },
    {
     "name": "stderr",
     "output_type": "stream",
     "text": [
      "Evaluating Folds: 100%|██████████| 25/25 [15:20<00:00, 36.80s/it]\n"
     ]
    },
    {
     "name": "stdout",
     "output_type": "stream",
     "text": [
      "Result: {'n_estimators': 100, 'max_depth': None, 'min_samples_split': 2}-> mean_absolute_error=1370.1872 ± 6.9631\n"
     ]
    },
    {
     "name": "stderr",
     "output_type": "stream",
     "text": [
      "Evaluating Folds: 100%|██████████| 25/25 [14:18<00:00, 34.34s/it]\n"
     ]
    },
    {
     "name": "stdout",
     "output_type": "stream",
     "text": [
      "Result: {'n_estimators': 100, 'max_depth': None, 'min_samples_split': 5}-> mean_absolute_error=1371.0890 ± 6.7643\n"
     ]
    },
    {
     "name": "stderr",
     "output_type": "stream",
     "text": [
      "Evaluating Folds: 100%|██████████| 25/25 [13:33<00:00, 32.53s/it]\n"
     ]
    },
    {
     "name": "stdout",
     "output_type": "stream",
     "text": [
      "Result: {'n_estimators': 100, 'max_depth': None, 'min_samples_split': 10}-> mean_absolute_error=1375.7595 ± 6.8102\n"
     ]
    },
    {
     "name": "stderr",
     "output_type": "stream",
     "text": [
      "Evaluating Folds: 100%|██████████| 25/25 [08:20<00:00, 20.02s/it]\n"
     ]
    },
    {
     "name": "stdout",
     "output_type": "stream",
     "text": [
      "Result: {'n_estimators': 100, 'max_depth': 10, 'min_samples_split': 2}-> mean_absolute_error=1648.3131 ± 6.4897\n"
     ]
    },
    {
     "name": "stderr",
     "output_type": "stream",
     "text": [
      "Evaluating Folds: 100%|██████████| 25/25 [08:22<00:00, 20.11s/it]\n"
     ]
    },
    {
     "name": "stdout",
     "output_type": "stream",
     "text": [
      "Result: {'n_estimators': 100, 'max_depth': 10, 'min_samples_split': 5}-> mean_absolute_error=1649.0458 ± 6.7235\n"
     ]
    },
    {
     "name": "stderr",
     "output_type": "stream",
     "text": [
      "Evaluating Folds: 100%|██████████| 25/25 [08:18<00:00, 19.95s/it]\n"
     ]
    },
    {
     "name": "stdout",
     "output_type": "stream",
     "text": [
      "Result: {'n_estimators': 100, 'max_depth': 10, 'min_samples_split': 10}-> mean_absolute_error=1650.9065 ± 6.4806\n"
     ]
    },
    {
     "name": "stderr",
     "output_type": "stream",
     "text": [
      "Evaluating Folds: 100%|██████████| 25/25 [13:58<00:00, 33.53s/it]\n"
     ]
    },
    {
     "name": "stdout",
     "output_type": "stream",
     "text": [
      "Result: {'n_estimators': 100, 'max_depth': 20, 'min_samples_split': 2}-> mean_absolute_error=1369.2781 ± 6.6658\n"
     ]
    },
    {
     "name": "stderr",
     "output_type": "stream",
     "text": [
      "Evaluating Folds: 100%|██████████| 25/25 [13:13<00:00, 31.72s/it]\n"
     ]
    },
    {
     "name": "stdout",
     "output_type": "stream",
     "text": [
      "Result: {'n_estimators': 100, 'max_depth': 20, 'min_samples_split': 5}-> mean_absolute_error=1369.6848 ± 6.7948\n"
     ]
    },
    {
     "name": "stderr",
     "output_type": "stream",
     "text": [
      "Evaluating Folds: 100%|██████████| 25/25 [12:36<00:00, 30.27s/it]\n"
     ]
    },
    {
     "name": "stdout",
     "output_type": "stream",
     "text": [
      "Result: {'n_estimators': 100, 'max_depth': 20, 'min_samples_split': 10}-> mean_absolute_error=1375.1500 ± 6.5477\n"
     ]
    },
    {
     "name": "stderr",
     "output_type": "stream",
     "text": [
      "Evaluating Folds: 100%|██████████| 25/25 [29:56<00:00, 71.87s/it]\n"
     ]
    },
    {
     "name": "stdout",
     "output_type": "stream",
     "text": [
      "Result: {'n_estimators': 200, 'max_depth': None, 'min_samples_split': 2}-> mean_absolute_error=1365.8279 ± 6.6250\n"
     ]
    },
    {
     "name": "stderr",
     "output_type": "stream",
     "text": [
      "Evaluating Folds: 100%|██████████| 25/25 [28:16<00:00, 67.88s/it]\n"
     ]
    },
    {
     "name": "stdout",
     "output_type": "stream",
     "text": [
      "Result: {'n_estimators': 200, 'max_depth': None, 'min_samples_split': 5}-> mean_absolute_error=1366.2238 ± 6.5821\n"
     ]
    },
    {
     "name": "stderr",
     "output_type": "stream",
     "text": [
      "Evaluating Folds: 100%|██████████| 25/25 [25:42<00:00, 61.69s/it]\n"
     ]
    },
    {
     "name": "stdout",
     "output_type": "stream",
     "text": [
      "Result: {'n_estimators': 200, 'max_depth': None, 'min_samples_split': 10}-> mean_absolute_error=1372.2235 ± 6.6456\n"
     ]
    },
    {
     "name": "stderr",
     "output_type": "stream",
     "text": [
      "Evaluating Folds: 100%|██████████| 25/25 [16:19<00:00, 39.18s/it]\n"
     ]
    },
    {
     "name": "stdout",
     "output_type": "stream",
     "text": [
      "Result: {'n_estimators': 200, 'max_depth': 10, 'min_samples_split': 2}-> mean_absolute_error=1647.2454 ± 6.4652\n"
     ]
    },
    {
     "name": "stderr",
     "output_type": "stream",
     "text": [
      "Evaluating Folds: 100%|██████████| 25/25 [16:16<00:00, 39.08s/it]\n"
     ]
    },
    {
     "name": "stdout",
     "output_type": "stream",
     "text": [
      "Result: {'n_estimators': 200, 'max_depth': 10, 'min_samples_split': 5}-> mean_absolute_error=1647.9779 ± 6.5081\n"
     ]
    },
    {
     "name": "stderr",
     "output_type": "stream",
     "text": [
      "Evaluating Folds: 100%|██████████| 25/25 [16:19<00:00, 39.18s/it]\n"
     ]
    },
    {
     "name": "stdout",
     "output_type": "stream",
     "text": [
      "Result: {'n_estimators': 200, 'max_depth': 10, 'min_samples_split': 10}-> mean_absolute_error=1649.9996 ± 6.8419\n"
     ]
    },
    {
     "name": "stderr",
     "output_type": "stream",
     "text": [
      "Evaluating Folds: 100%|██████████| 25/25 [27:38<00:00, 66.36s/it]\n"
     ]
    },
    {
     "name": "stdout",
     "output_type": "stream",
     "text": [
      "Result: {'n_estimators': 200, 'max_depth': 20, 'min_samples_split': 2}-> mean_absolute_error=1364.0116 ± 6.6680\n"
     ]
    },
    {
     "name": "stderr",
     "output_type": "stream",
     "text": [
      "Evaluating Folds: 100%|██████████| 25/25 [26:07<00:00, 62.70s/it]\n"
     ]
    },
    {
     "name": "stdout",
     "output_type": "stream",
     "text": [
      "Result: {'n_estimators': 200, 'max_depth': 20, 'min_samples_split': 5}-> mean_absolute_error=1365.5428 ± 6.6744\n"
     ]
    },
    {
     "name": "stderr",
     "output_type": "stream",
     "text": [
      "Evaluating Folds: 100%|██████████| 25/25 [57:29<00:00, 137.99s/it]  \n"
     ]
    },
    {
     "name": "stdout",
     "output_type": "stream",
     "text": [
      "Result: {'n_estimators': 200, 'max_depth': 20, 'min_samples_split': 10}-> mean_absolute_error=1373.6448 ± 6.8163\n",
      "\n",
      "--- Generating Plot RandomForestRegressor ---\n"
     ]
    },
    {
     "data": {
      "image/png": "[encoded data removed]",
      "text/plain": [
       "<Figure size 1200x600 with 1 Axes>"
      ]
     },
     "metadata": {},
     "output_type": "display_data"
    },
    {
     "name": "stdout",
     "output_type": "stream",
     "text": [
      "\n",
      "Optimization Complete. Best Parameters: {'n_estimators': 200, 'max_depth': 20, 'min_samples_split': 2} with Mean RMSE=1364.0116\n",
      "\n",
      "Best parameters (SVR): {'n_estimators': 200, 'max_depth': 20, 'min_samples_split': 2}\n"
     ]
    }
   ],
   "source": [
    "# Convert to list of dicts (one dict per combination)\n",
    "keys = list(CONFIG['param_grid'].keys())\n",
    "values = list(CONFIG['param_grid'].values())\n",
    "all_combinations = [dict(zip(keys, v)) for v in itertools.product(*values)]\n",
    "\n",
    "print(f\"Total {CONFIG['model_class'].__name__} combinations: {len(all_combinations)}\")\n",
    "\n",
    "if CONFIG['SHORT_SEARCH'] and len(all_combinations) > CONFIG['MAX_COMBINATIONS']:\n",
    "    list_of_dictionaries = random.sample(all_combinations, CONFIG['MAX_COMBINATIONS'])\n",
    "    print(f\"SHORT_SEARCH active — sampling {len(list_of_dictionaries)} combinations\")\n",
    "else:\n",
    "    list_of_dictionaries = all_combinations\n",
    "\n",
    "# Run the helper. `run_hyperparameter_tuning` expects the raw train dataframe and a preprocessor to transform inside.\n",
    "print(f\"Starting hyperparameter tuning for {CONFIG['model_class'].__name__} — this may take a while depending on combos and CV\")\n",
    "results_svr, best_params = run_hyperparameter_tuning(\n",
    "    train_data,\n",
    "    preprocessor=preprocessor,\n",
    "    list_of_dictionaries=list_of_dictionaries,\n",
    "    metric=mean_absolute_error,\n",
    "    model_class=CONFIG['model_class'],\n",
    "    n_splits=CONFIG['n_splits'],\n",
    "    n_repeats=CONFIG['n_repeats'],\n",
    "    random_state=CONFIG['random_state']\n",
    " )\n",
    "\n",
    "print(f\"\\nBest parameters ({CONFIG['model_class'].__name__}):\", best_params)"
   ]
  },
  {
   "cell_type": "markdown",
   "id": "33adb1f2",
   "metadata": {},
   "source": [
    "# Model Definition & Final Training\n",
    "Define the final model using the best hyperparameters found during the search, train it on"
   ]
  },
  {
   "cell_type": "code",
   "execution_count": 14,
   "id": "d5cdbeaf",
   "metadata": {},
   "outputs": [],
   "source": [
    "from utils.model_evaluation.regression_evaluation import get_regression_metrics, plot_regression_diagnostics"
   ]
  },
  {
   "cell_type": "code",
   "execution_count": null,
   "id": "5cfe64d6",
   "metadata": {},
   "outputs": [
    {
     "name": "stdout",
     "output_type": "stream",
     "text": [
      "   Support Vector  RMSE: 2969\n",
      "   Support Vector  R²: 0.908\n",
      "   Support Vector MAE: 1598\n",
      "\n",
      "Regression Metrics:\n",
      "                                      Score  \\\n",
      "Metric                                       \n",
      "R-squared ($R^2$)                   0.9079   \n",
      "Explained Variance Score            0.9079   \n",
      "Root Mean Squared Error (RMSE)  2,968.7927   \n",
      "Mean Absolute Error (MAE)       1,597.8731   \n",
      "Median Absolute Error (MedAE)     972.0656   \n",
      "\n",
      "                                                                   Interpretation  \n",
      "Metric                                                                             \n",
      "R-squared ($R^2$)               Proportion of variance explained by the model ...  \n",
      "Explained Variance Score        The variance in the error, a lower value is be...  \n",
      "Root Mean Squared Error (RMSE)  Average magnitude of errors (same units as tar...  \n",
      "Mean Absolute Error (MAE)       Average absolute difference between true and p...  \n",
      "Median Absolute Error (MedAE)   The median of all absolute errors (less sensit...  \n"
     ]
    },
    {
     "data": {
      "image/png": "[encoded data removed]",
      "text/plain": [
       "<Figure size 1400x500 with 2 Axes>"
      ]
     },
     "metadata": {},
     "output_type": "display_data"
    }
   ],
   "source": [
    "from typing import Callable, Dict, List, TypeVar\n",
    "\n",
    "def predict_and_evaluate_regressor(model_cls:Callable,\n",
    "                                   choosen_params:Dict,\n",
    "                                   choosen_features:List[str],\n",
    "                                   X_train:pd.DataFrame,\n",
    "                                   y_train:pd.Series,\n",
    "                                   X_val:pd.DataFrame,\n",
    "                                   y_val:pd.Series,\n",
    "                                   save_report:bool=True,\n",
    "                                   report_filename:str=None):\n",
    "    \n",
    "\n",
    "    \n",
    "    model = model_cls(**choosen_params)\n",
    "    model.fit(X_train[choosen_features], y_train)\n",
    "\n",
    "    predictions = model.predict(X_val[choosen_features])\n",
    "    rmse = np.sqrt(mean_squared_error(y_val, predictions))\n",
    "    mae = mean_absolute_error(y_val, predictions)\n",
    "    r2 = r2_score(y_val, predictions)\n",
    "\n",
    "    print(f\"   Support Vector  RMSE: {rmse:.0f}\")\n",
    "    print(f\"   Support Vector  R²: {r2:.3f}\")\n",
    "    print(f\"   Support Vector MAE: {mae:.0f}\")\n",
    "    metrics_df = get_regression_metrics(y_val, predictions)\n",
    "    print(\"\\nRegression Metrics:\\n\", metrics_df)\n",
    "    plot_regression_diagnostics(y_val, predictions, title=f\"{CONFIG['model_class'].__name__} Diagnostics\")\n",
    "    \n",
    "    if save_report:\n",
    "        #make sure the filename ends with .txt\n",
    "        if report_filename is None:\n",
    "            todyas_date = pd.Timestamp.now().strftime(\"%Y%m%d\")\n",
    "            report_filename = f\"{todyas_date}_{CONFIG['model_class'].__name__}_regression_report.txt\"\n",
    "        elif not report_filename.endswith('.txt'):\n",
    "            report_filename += '.txt'\n",
    "        with open(f\"report_filename\", \"w\") as f:\n",
    "            f.write(f\"Regression Metrics for {CONFIG['model_class'].__name__}:\\n\")\n",
    "            f.write(f\"Choosen Parameters: {choosen_params}\\n\\n\")\n",
    "            f.write(metrics_df.to_string())\n",
    "            \n",
    "    return model\n",
    "    \n",
    "\n",
    "model = predict_and_evaluate_regressor(model=CONFIG['model_class'],\n",
    "                               X_train=X_train,\n",
    "                               y_train=y_train,\n",
    "                               X_val=X_val,\n",
    "                               y_val=y_val,\n",
    "                               choosen_features=choosen_features,\n",
    "                               choosen_params=best_params,\n",
    "                               save_report= not CONFIG['SHORT_SEARCH'],\n",
    "                               report_filename=None)                               \n",
    "                               "
   ]
  },
  {
   "cell_type": "code",
   "execution_count": 32,
   "id": "aa029a52",
   "metadata": {},
   "outputs": [
    {
     "name": "stdout",
     "output_type": "stream",
     "text": [
      "{'n_estimators': 200, 'max_depth': 20, 'min_samples_split': 2}\n"
     ]
    }
   ],
   "source": [
    "print(best_params)"
   ]
  },
  {
   "cell_type": "code",
   "execution_count": null,
   "id": "f06a46bd",
   "metadata": {},
   "outputs": [],
   "source": [
    "from utils.model_submission.model_submitter import ModelSubmitter\n",
    "\n",
    "submitter = ModelSubmitter(model, test_data_processed, choosen_features, index_column='carID')\n",
    "if not CONFIG['SHORT_SEARCH']:\n",
    "    submitter.save_submission(filename='random_forest_submission.csv',\n",
    "                              submit_model=True, submint_msg=\"Group 45 - Benchmark submission trough API\")\n",
    "else:\n",
    "    print(\"SHORT_SEARCH is enabled; skipping submission save.\")"
   ]
  }
 ],
 "metadata": {
  "kernelspec": {
   "display_name": "ML_env",
   "language": "python",
   "name": "python3"
  },
  "language_info": {
   "codemirror_mode": {
    "name": "ipython",
    "version": 3
   },
   "file_extension": ".py",
   "mimetype": "text/x-python",
   "name": "python",
   "nbconvert_exporter": "python",
   "pygments_lexer": "ipython3",
   "version": "3.12.7"
  }
 },
 "nbformat": 4,
 "nbformat_minor": 5
}
